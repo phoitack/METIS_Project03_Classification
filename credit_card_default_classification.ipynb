{
 "cells": [
  {
   "cell_type": "markdown",
   "metadata": {},
   "source": [
    "## Project 3: Predicting Credit Card Default via Classification"
   ]
  },
  {
   "cell_type": "markdown",
   "metadata": {},
   "source": [
    "### Declare and Import all Libraries and Packages used"
   ]
  },
  {
   "cell_type": "code",
   "execution_count": null,
   "metadata": {
    "ExecuteTime": {
     "end_time": "2019-10-30T04:42:55.748755Z",
     "start_time": "2019-10-30T04:42:51.129787Z"
    }
   },
   "outputs": [],
   "source": [
    "# Declare and import all packages\n",
    "#from __future__          import absolute_import, division, print_function, unicode_literals\n",
    "import pandas            as pd\n",
    "import numpy             as np\n",
    "import matplotlib\n",
    "import matplotlib.pyplot as plt\n",
    "import seaborn           as sns\n",
    "import tensorflow        as tf\n",
    "#import keras\n",
    "\n",
    "from sklearn.metrics         import accuracy_score, make_scorer, confusion_matrix, \\\n",
    "                                    precision_score, recall_score, \\\n",
    "                                    precision_recall_curve, \\\n",
    "                                    f1_score, fbeta_score, roc_curve, auc\n",
    "\n",
    "from sklearn                 import metrics\n",
    "\n",
    "from sklearn.model_selection import train_test_split,cross_val_score, \\\n",
    "                                    GridSearchCV, cross_validate\n",
    "\n",
    "from sklearn.preprocessing   import StandardScaler \n",
    "from sklearn.neighbors       import KNeighborsClassifier\n",
    "from sklearn.linear_model    import LogisticRegression,LogisticRegressionCV\n",
    "from sklearn.naive_bayes     import GaussianNB,BernoulliNB,MultinomialNB\n",
    "from sklearn.ensemble        import RandomForestClassifier,ExtraTreesClassifier, \\\n",
    "                                    AdaBoostClassifier,GradientBoostingClassifier\n",
    "\n",
    "from catboost                import CatBoostClassifier\n",
    "from xgboost                 import XGBClassifier\n",
    "\n",
    "from imblearn.over_sampling  import RandomOverSampler,SMOTE,ADASYN\n",
    "\n",
    "from collections             import Counter\n",
    "\n",
    "from sklearn.svm             import SVC\n",
    "from sklearn                 import svm\n",
    "\n",
    "from tensorflow.keras        import layers,Sequential\n",
    "from tensorflow.keras.layers import Dense\n",
    "\n",
    "#import multiprocessing\n",
    "from yellowbrick.classifier  import DiscriminationThreshold\n",
    "\n",
    "import altair as alt\n",
    "#from vega_datasets import data\n",
    "alt.renderers.enable('notebook')\n",
    "\n",
    "%matplotlib inline "
   ]
  },
  {
   "cell_type": "markdown",
   "metadata": {},
   "source": [
    "#### Set Global Parameters\n",
    "This values will be standard across all classifiers "
   ]
  },
  {
   "cell_type": "code",
   "execution_count": 2,
   "metadata": {
    "ExecuteTime": {
     "end_time": "2019-10-30T04:42:58.875150Z",
     "start_time": "2019-10-30T04:42:58.872793Z"
    }
   },
   "outputs": [],
   "source": [
    "# Set global parameters\n",
    "random_seed             = 42     # Random seed\n",
    "sample_test_size        = 0.2    # 20% of sample size for testing\n",
    "cv_value                = 10     # Cross validation number of folds"
   ]
  },
  {
   "cell_type": "markdown",
   "metadata": {},
   "source": [
    "### Data Loading and Cleaning"
   ]
  },
  {
   "cell_type": "markdown",
   "metadata": {},
   "source": [
    "#### Load Dataset"
   ]
  },
  {
   "cell_type": "code",
   "execution_count": 3,
   "metadata": {
    "ExecuteTime": {
     "end_time": "2019-10-30T04:42:59.915215Z",
     "start_time": "2019-10-30T04:42:59.852999Z"
    }
   },
   "outputs": [],
   "source": [
    "# Read in the data set\n",
    "# Data set obtained from UCI Website\n",
    "df = pd.read_csv('./data/data.csv')"
   ]
  },
  {
   "cell_type": "markdown",
   "metadata": {},
   "source": [
    "#### Minor EDA"
   ]
  },
  {
   "cell_type": "code",
   "execution_count": 4,
   "metadata": {
    "ExecuteTime": {
     "end_time": "2019-10-30T04:43:01.621779Z",
     "start_time": "2019-10-30T04:43:01.618949Z"
    }
   },
   "outputs": [
    {
     "name": "stdout",
     "output_type": "stream",
     "text": [
      "(30000, 25)\n"
     ]
    }
   ],
   "source": [
    "print(df.shape)"
   ]
  },
  {
   "cell_type": "code",
   "execution_count": 5,
   "metadata": {
    "ExecuteTime": {
     "end_time": "2019-10-30T04:43:02.045075Z",
     "start_time": "2019-10-30T04:43:02.026994Z"
    }
   },
   "outputs": [
    {
     "data": {
      "text/html": [
       "<div>\n",
       "<style scoped>\n",
       "    .dataframe tbody tr th:only-of-type {\n",
       "        vertical-align: middle;\n",
       "    }\n",
       "\n",
       "    .dataframe tbody tr th {\n",
       "        vertical-align: top;\n",
       "    }\n",
       "\n",
       "    .dataframe thead th {\n",
       "        text-align: right;\n",
       "    }\n",
       "</style>\n",
       "<table border=\"1\" class=\"dataframe\">\n",
       "  <thead>\n",
       "    <tr style=\"text-align: right;\">\n",
       "      <th></th>\n",
       "      <th>ID</th>\n",
       "      <th>LIMIT_BAL</th>\n",
       "      <th>SEX</th>\n",
       "      <th>EDUCATION</th>\n",
       "      <th>MARRIAGE</th>\n",
       "      <th>AGE</th>\n",
       "      <th>PAY_0</th>\n",
       "      <th>PAY_2</th>\n",
       "      <th>PAY_3</th>\n",
       "      <th>PAY_4</th>\n",
       "      <th>...</th>\n",
       "      <th>BILL_AMT4</th>\n",
       "      <th>BILL_AMT5</th>\n",
       "      <th>BILL_AMT6</th>\n",
       "      <th>PAY_AMT1</th>\n",
       "      <th>PAY_AMT2</th>\n",
       "      <th>PAY_AMT3</th>\n",
       "      <th>PAY_AMT4</th>\n",
       "      <th>PAY_AMT5</th>\n",
       "      <th>PAY_AMT6</th>\n",
       "      <th>default payment next month</th>\n",
       "    </tr>\n",
       "  </thead>\n",
       "  <tbody>\n",
       "    <tr>\n",
       "      <th>0</th>\n",
       "      <td>1</td>\n",
       "      <td>20000</td>\n",
       "      <td>2</td>\n",
       "      <td>2</td>\n",
       "      <td>1</td>\n",
       "      <td>24</td>\n",
       "      <td>2</td>\n",
       "      <td>2</td>\n",
       "      <td>-1</td>\n",
       "      <td>-1</td>\n",
       "      <td>...</td>\n",
       "      <td>0</td>\n",
       "      <td>0</td>\n",
       "      <td>0</td>\n",
       "      <td>0</td>\n",
       "      <td>689</td>\n",
       "      <td>0</td>\n",
       "      <td>0</td>\n",
       "      <td>0</td>\n",
       "      <td>0</td>\n",
       "      <td>1</td>\n",
       "    </tr>\n",
       "    <tr>\n",
       "      <th>1</th>\n",
       "      <td>2</td>\n",
       "      <td>120000</td>\n",
       "      <td>2</td>\n",
       "      <td>2</td>\n",
       "      <td>2</td>\n",
       "      <td>26</td>\n",
       "      <td>-1</td>\n",
       "      <td>2</td>\n",
       "      <td>0</td>\n",
       "      <td>0</td>\n",
       "      <td>...</td>\n",
       "      <td>3272</td>\n",
       "      <td>3455</td>\n",
       "      <td>3261</td>\n",
       "      <td>0</td>\n",
       "      <td>1000</td>\n",
       "      <td>1000</td>\n",
       "      <td>1000</td>\n",
       "      <td>0</td>\n",
       "      <td>2000</td>\n",
       "      <td>1</td>\n",
       "    </tr>\n",
       "    <tr>\n",
       "      <th>2</th>\n",
       "      <td>3</td>\n",
       "      <td>90000</td>\n",
       "      <td>2</td>\n",
       "      <td>2</td>\n",
       "      <td>2</td>\n",
       "      <td>34</td>\n",
       "      <td>0</td>\n",
       "      <td>0</td>\n",
       "      <td>0</td>\n",
       "      <td>0</td>\n",
       "      <td>...</td>\n",
       "      <td>14331</td>\n",
       "      <td>14948</td>\n",
       "      <td>15549</td>\n",
       "      <td>1518</td>\n",
       "      <td>1500</td>\n",
       "      <td>1000</td>\n",
       "      <td>1000</td>\n",
       "      <td>1000</td>\n",
       "      <td>5000</td>\n",
       "      <td>0</td>\n",
       "    </tr>\n",
       "    <tr>\n",
       "      <th>3</th>\n",
       "      <td>4</td>\n",
       "      <td>50000</td>\n",
       "      <td>2</td>\n",
       "      <td>2</td>\n",
       "      <td>1</td>\n",
       "      <td>37</td>\n",
       "      <td>0</td>\n",
       "      <td>0</td>\n",
       "      <td>0</td>\n",
       "      <td>0</td>\n",
       "      <td>...</td>\n",
       "      <td>28314</td>\n",
       "      <td>28959</td>\n",
       "      <td>29547</td>\n",
       "      <td>2000</td>\n",
       "      <td>2019</td>\n",
       "      <td>1200</td>\n",
       "      <td>1100</td>\n",
       "      <td>1069</td>\n",
       "      <td>1000</td>\n",
       "      <td>0</td>\n",
       "    </tr>\n",
       "    <tr>\n",
       "      <th>4</th>\n",
       "      <td>5</td>\n",
       "      <td>50000</td>\n",
       "      <td>1</td>\n",
       "      <td>2</td>\n",
       "      <td>1</td>\n",
       "      <td>57</td>\n",
       "      <td>-1</td>\n",
       "      <td>0</td>\n",
       "      <td>-1</td>\n",
       "      <td>0</td>\n",
       "      <td>...</td>\n",
       "      <td>20940</td>\n",
       "      <td>19146</td>\n",
       "      <td>19131</td>\n",
       "      <td>2000</td>\n",
       "      <td>36681</td>\n",
       "      <td>10000</td>\n",
       "      <td>9000</td>\n",
       "      <td>689</td>\n",
       "      <td>679</td>\n",
       "      <td>0</td>\n",
       "    </tr>\n",
       "  </tbody>\n",
       "</table>\n",
       "<p>5 rows × 25 columns</p>\n",
       "</div>"
      ],
      "text/plain": [
       "   ID  LIMIT_BAL  SEX  EDUCATION  MARRIAGE  AGE  PAY_0  PAY_2  PAY_3  PAY_4  \\\n",
       "0   1      20000    2          2         1   24      2      2     -1     -1   \n",
       "1   2     120000    2          2         2   26     -1      2      0      0   \n",
       "2   3      90000    2          2         2   34      0      0      0      0   \n",
       "3   4      50000    2          2         1   37      0      0      0      0   \n",
       "4   5      50000    1          2         1   57     -1      0     -1      0   \n",
       "\n",
       "   ...  BILL_AMT4  BILL_AMT5  BILL_AMT6  PAY_AMT1  PAY_AMT2  PAY_AMT3  \\\n",
       "0  ...          0          0          0         0       689         0   \n",
       "1  ...       3272       3455       3261         0      1000      1000   \n",
       "2  ...      14331      14948      15549      1518      1500      1000   \n",
       "3  ...      28314      28959      29547      2000      2019      1200   \n",
       "4  ...      20940      19146      19131      2000     36681     10000   \n",
       "\n",
       "   PAY_AMT4  PAY_AMT5  PAY_AMT6  default payment next month  \n",
       "0         0         0         0                           1  \n",
       "1      1000         0      2000                           1  \n",
       "2      1000      1000      5000                           0  \n",
       "3      1100      1069      1000                           0  \n",
       "4      9000       689       679                           0  \n",
       "\n",
       "[5 rows x 25 columns]"
      ]
     },
     "execution_count": 5,
     "metadata": {},
     "output_type": "execute_result"
    }
   ],
   "source": [
    "df.head(5)"
   ]
  },
  {
   "cell_type": "code",
   "execution_count": 6,
   "metadata": {
    "ExecuteTime": {
     "end_time": "2019-10-30T04:43:02.226699Z",
     "start_time": "2019-10-30T04:43:02.211561Z"
    }
   },
   "outputs": [
    {
     "name": "stdout",
     "output_type": "stream",
     "text": [
      "<class 'pandas.core.frame.DataFrame'>\n",
      "RangeIndex: 30000 entries, 0 to 29999\n",
      "Data columns (total 25 columns):\n",
      "ID                            30000 non-null int64\n",
      "LIMIT_BAL                     30000 non-null int64\n",
      "SEX                           30000 non-null int64\n",
      "EDUCATION                     30000 non-null int64\n",
      "MARRIAGE                      30000 non-null int64\n",
      "AGE                           30000 non-null int64\n",
      "PAY_0                         30000 non-null int64\n",
      "PAY_2                         30000 non-null int64\n",
      "PAY_3                         30000 non-null int64\n",
      "PAY_4                         30000 non-null int64\n",
      "PAY_5                         30000 non-null int64\n",
      "PAY_6                         30000 non-null int64\n",
      "BILL_AMT1                     30000 non-null int64\n",
      "BILL_AMT2                     30000 non-null int64\n",
      "BILL_AMT3                     30000 non-null int64\n",
      "BILL_AMT4                     30000 non-null int64\n",
      "BILL_AMT5                     30000 non-null int64\n",
      "BILL_AMT6                     30000 non-null int64\n",
      "PAY_AMT1                      30000 non-null int64\n",
      "PAY_AMT2                      30000 non-null int64\n",
      "PAY_AMT3                      30000 non-null int64\n",
      "PAY_AMT4                      30000 non-null int64\n",
      "PAY_AMT5                      30000 non-null int64\n",
      "PAY_AMT6                      30000 non-null int64\n",
      "default payment next month    30000 non-null int64\n",
      "dtypes: int64(25)\n",
      "memory usage: 5.7 MB\n"
     ]
    }
   ],
   "source": [
    "df.info()"
   ]
  },
  {
   "cell_type": "code",
   "execution_count": 7,
   "metadata": {
    "ExecuteTime": {
     "end_time": "2019-10-30T04:43:02.907725Z",
     "start_time": "2019-10-30T04:43:02.903810Z"
    }
   },
   "outputs": [
    {
     "data": {
      "text/plain": [
       "Index(['ID', 'LIMIT_BAL', 'SEX', 'EDUCATION', 'MARRIAGE', 'AGE', 'PAY_0',\n",
       "       'PAY_2', 'PAY_3', 'PAY_4', 'PAY_5', 'PAY_6', 'BILL_AMT1', 'BILL_AMT2',\n",
       "       'BILL_AMT3', 'BILL_AMT4', 'BILL_AMT5', 'BILL_AMT6', 'PAY_AMT1',\n",
       "       'PAY_AMT2', 'PAY_AMT3', 'PAY_AMT4', 'PAY_AMT5', 'PAY_AMT6',\n",
       "       'default payment next month'],\n",
       "      dtype='object')"
      ]
     },
     "execution_count": 7,
     "metadata": {},
     "output_type": "execute_result"
    }
   ],
   "source": [
    "# Print out our columns\n",
    "df.columns"
   ]
  },
  {
   "cell_type": "code",
   "execution_count": 8,
   "metadata": {
    "ExecuteTime": {
     "end_time": "2019-10-30T04:43:03.103542Z",
     "start_time": "2019-10-30T04:43:03.092683Z"
    }
   },
   "outputs": [
    {
     "data": {
      "text/plain": [
       "Index(['ID', 'LIMIT_BAL', 'SEX', 'EDUCATION', 'MARRIAGE', 'AGE', 'PAY_1',\n",
       "       'PAY_2', 'PAY_3', 'PAY_4', 'PAY_5', 'PAY_6', 'BILL_AMT1', 'BILL_AMT2',\n",
       "       'BILL_AMT3', 'BILL_AMT4', 'BILL_AMT5', 'BILL_AMT6', 'PAY_AMT1',\n",
       "       'PAY_AMT2', 'PAY_AMT3', 'PAY_AMT4', 'PAY_AMT5', 'PAY_AMT6', 'DEFAULT'],\n",
       "      dtype='object')"
      ]
     },
     "execution_count": 8,
     "metadata": {},
     "output_type": "execute_result"
    }
   ],
   "source": [
    "# Rename the column name of PAY_0 to PAY_1 and default payment next month to DEFAULT\n",
    "df = df.rename(columns={'PAY_0':'PAY_1',\n",
    "                        'default payment next month':'DEFAULT'})\n",
    "\n",
    "df.columns"
   ]
  },
  {
   "cell_type": "code",
   "execution_count": 9,
   "metadata": {
    "ExecuteTime": {
     "end_time": "2019-10-30T04:43:03.915061Z",
     "start_time": "2019-10-30T04:43:03.903677Z"
    }
   },
   "outputs": [
    {
     "data": {
      "text/html": [
       "<div>\n",
       "<style scoped>\n",
       "    .dataframe tbody tr th:only-of-type {\n",
       "        vertical-align: middle;\n",
       "    }\n",
       "\n",
       "    .dataframe tbody tr th {\n",
       "        vertical-align: top;\n",
       "    }\n",
       "\n",
       "    .dataframe thead th {\n",
       "        text-align: right;\n",
       "    }\n",
       "</style>\n",
       "<table border=\"1\" class=\"dataframe\">\n",
       "  <thead>\n",
       "    <tr style=\"text-align: right;\">\n",
       "      <th></th>\n",
       "      <th>LIMIT_BAL</th>\n",
       "    </tr>\n",
       "  </thead>\n",
       "  <tbody>\n",
       "    <tr>\n",
       "      <th>count</th>\n",
       "      <td>30000.000000</td>\n",
       "    </tr>\n",
       "    <tr>\n",
       "      <th>mean</th>\n",
       "      <td>167484.322667</td>\n",
       "    </tr>\n",
       "    <tr>\n",
       "      <th>std</th>\n",
       "      <td>129747.661567</td>\n",
       "    </tr>\n",
       "    <tr>\n",
       "      <th>min</th>\n",
       "      <td>10000.000000</td>\n",
       "    </tr>\n",
       "    <tr>\n",
       "      <th>25%</th>\n",
       "      <td>50000.000000</td>\n",
       "    </tr>\n",
       "    <tr>\n",
       "      <th>50%</th>\n",
       "      <td>140000.000000</td>\n",
       "    </tr>\n",
       "    <tr>\n",
       "      <th>75%</th>\n",
       "      <td>240000.000000</td>\n",
       "    </tr>\n",
       "    <tr>\n",
       "      <th>max</th>\n",
       "      <td>1000000.000000</td>\n",
       "    </tr>\n",
       "  </tbody>\n",
       "</table>\n",
       "</div>"
      ],
      "text/plain": [
       "            LIMIT_BAL\n",
       "count    30000.000000\n",
       "mean    167484.322667\n",
       "std     129747.661567\n",
       "min      10000.000000\n",
       "25%      50000.000000\n",
       "50%     140000.000000\n",
       "75%     240000.000000\n",
       "max    1000000.000000"
      ]
     },
     "execution_count": 9,
     "metadata": {},
     "output_type": "execute_result"
    }
   ],
   "source": [
    " # Let's take a look at the data more\n",
    "df[['LIMIT_BAL']].describe()"
   ]
  },
  {
   "cell_type": "code",
   "execution_count": 10,
   "metadata": {
    "ExecuteTime": {
     "end_time": "2019-10-30T04:43:04.547135Z",
     "start_time": "2019-10-30T04:43:04.523574Z"
    }
   },
   "outputs": [
    {
     "data": {
      "text/html": [
       "<div>\n",
       "<style scoped>\n",
       "    .dataframe tbody tr th:only-of-type {\n",
       "        vertical-align: middle;\n",
       "    }\n",
       "\n",
       "    .dataframe tbody tr th {\n",
       "        vertical-align: top;\n",
       "    }\n",
       "\n",
       "    .dataframe thead th {\n",
       "        text-align: right;\n",
       "    }\n",
       "</style>\n",
       "<table border=\"1\" class=\"dataframe\">\n",
       "  <thead>\n",
       "    <tr style=\"text-align: right;\">\n",
       "      <th></th>\n",
       "      <th>SEX</th>\n",
       "      <th>EDUCATION</th>\n",
       "      <th>MARRIAGE</th>\n",
       "      <th>AGE</th>\n",
       "    </tr>\n",
       "  </thead>\n",
       "  <tbody>\n",
       "    <tr>\n",
       "      <th>count</th>\n",
       "      <td>30000.000000</td>\n",
       "      <td>30000.000000</td>\n",
       "      <td>30000.000000</td>\n",
       "      <td>30000.000000</td>\n",
       "    </tr>\n",
       "    <tr>\n",
       "      <th>mean</th>\n",
       "      <td>1.603733</td>\n",
       "      <td>1.853133</td>\n",
       "      <td>1.551867</td>\n",
       "      <td>35.485500</td>\n",
       "    </tr>\n",
       "    <tr>\n",
       "      <th>std</th>\n",
       "      <td>0.489129</td>\n",
       "      <td>0.790349</td>\n",
       "      <td>0.521970</td>\n",
       "      <td>9.217904</td>\n",
       "    </tr>\n",
       "    <tr>\n",
       "      <th>min</th>\n",
       "      <td>1.000000</td>\n",
       "      <td>0.000000</td>\n",
       "      <td>0.000000</td>\n",
       "      <td>21.000000</td>\n",
       "    </tr>\n",
       "    <tr>\n",
       "      <th>25%</th>\n",
       "      <td>1.000000</td>\n",
       "      <td>1.000000</td>\n",
       "      <td>1.000000</td>\n",
       "      <td>28.000000</td>\n",
       "    </tr>\n",
       "    <tr>\n",
       "      <th>50%</th>\n",
       "      <td>2.000000</td>\n",
       "      <td>2.000000</td>\n",
       "      <td>2.000000</td>\n",
       "      <td>34.000000</td>\n",
       "    </tr>\n",
       "    <tr>\n",
       "      <th>75%</th>\n",
       "      <td>2.000000</td>\n",
       "      <td>2.000000</td>\n",
       "      <td>2.000000</td>\n",
       "      <td>41.000000</td>\n",
       "    </tr>\n",
       "    <tr>\n",
       "      <th>max</th>\n",
       "      <td>2.000000</td>\n",
       "      <td>6.000000</td>\n",
       "      <td>3.000000</td>\n",
       "      <td>79.000000</td>\n",
       "    </tr>\n",
       "  </tbody>\n",
       "</table>\n",
       "</div>"
      ],
      "text/plain": [
       "                SEX     EDUCATION      MARRIAGE           AGE\n",
       "count  30000.000000  30000.000000  30000.000000  30000.000000\n",
       "mean       1.603733      1.853133      1.551867     35.485500\n",
       "std        0.489129      0.790349      0.521970      9.217904\n",
       "min        1.000000      0.000000      0.000000     21.000000\n",
       "25%        1.000000      1.000000      1.000000     28.000000\n",
       "50%        2.000000      2.000000      2.000000     34.000000\n",
       "75%        2.000000      2.000000      2.000000     41.000000\n",
       "max        2.000000      6.000000      3.000000     79.000000"
      ]
     },
     "execution_count": 10,
     "metadata": {},
     "output_type": "execute_result"
    }
   ],
   "source": [
    "df[['SEX','EDUCATION','MARRIAGE', 'AGE']].describe()\n",
    "\n",
    "# From the data below, looks like data points for education and marriage are missing\n",
    "# Note that the minimum for education and marriage are not zero"
   ]
  },
  {
   "cell_type": "code",
   "execution_count": 11,
   "metadata": {
    "ExecuteTime": {
     "end_time": "2019-10-30T04:43:05.238513Z",
     "start_time": "2019-10-30T04:43:05.208828Z"
    }
   },
   "outputs": [
    {
     "data": {
      "text/html": [
       "<div>\n",
       "<style scoped>\n",
       "    .dataframe tbody tr th:only-of-type {\n",
       "        vertical-align: middle;\n",
       "    }\n",
       "\n",
       "    .dataframe tbody tr th {\n",
       "        vertical-align: top;\n",
       "    }\n",
       "\n",
       "    .dataframe thead th {\n",
       "        text-align: right;\n",
       "    }\n",
       "</style>\n",
       "<table border=\"1\" class=\"dataframe\">\n",
       "  <thead>\n",
       "    <tr style=\"text-align: right;\">\n",
       "      <th></th>\n",
       "      <th>PAY_1</th>\n",
       "      <th>PAY_2</th>\n",
       "      <th>PAY_3</th>\n",
       "      <th>PAY_4</th>\n",
       "      <th>PAY_5</th>\n",
       "      <th>PAY_6</th>\n",
       "    </tr>\n",
       "  </thead>\n",
       "  <tbody>\n",
       "    <tr>\n",
       "      <th>count</th>\n",
       "      <td>30000.000000</td>\n",
       "      <td>30000.000000</td>\n",
       "      <td>30000.000000</td>\n",
       "      <td>30000.000000</td>\n",
       "      <td>30000.000000</td>\n",
       "      <td>30000.000000</td>\n",
       "    </tr>\n",
       "    <tr>\n",
       "      <th>mean</th>\n",
       "      <td>-0.016700</td>\n",
       "      <td>-0.133767</td>\n",
       "      <td>-0.166200</td>\n",
       "      <td>-0.220667</td>\n",
       "      <td>-0.266200</td>\n",
       "      <td>-0.291100</td>\n",
       "    </tr>\n",
       "    <tr>\n",
       "      <th>std</th>\n",
       "      <td>1.123802</td>\n",
       "      <td>1.197186</td>\n",
       "      <td>1.196868</td>\n",
       "      <td>1.169139</td>\n",
       "      <td>1.133187</td>\n",
       "      <td>1.149988</td>\n",
       "    </tr>\n",
       "    <tr>\n",
       "      <th>min</th>\n",
       "      <td>-2.000000</td>\n",
       "      <td>-2.000000</td>\n",
       "      <td>-2.000000</td>\n",
       "      <td>-2.000000</td>\n",
       "      <td>-2.000000</td>\n",
       "      <td>-2.000000</td>\n",
       "    </tr>\n",
       "    <tr>\n",
       "      <th>25%</th>\n",
       "      <td>-1.000000</td>\n",
       "      <td>-1.000000</td>\n",
       "      <td>-1.000000</td>\n",
       "      <td>-1.000000</td>\n",
       "      <td>-1.000000</td>\n",
       "      <td>-1.000000</td>\n",
       "    </tr>\n",
       "    <tr>\n",
       "      <th>50%</th>\n",
       "      <td>0.000000</td>\n",
       "      <td>0.000000</td>\n",
       "      <td>0.000000</td>\n",
       "      <td>0.000000</td>\n",
       "      <td>0.000000</td>\n",
       "      <td>0.000000</td>\n",
       "    </tr>\n",
       "    <tr>\n",
       "      <th>75%</th>\n",
       "      <td>0.000000</td>\n",
       "      <td>0.000000</td>\n",
       "      <td>0.000000</td>\n",
       "      <td>0.000000</td>\n",
       "      <td>0.000000</td>\n",
       "      <td>0.000000</td>\n",
       "    </tr>\n",
       "    <tr>\n",
       "      <th>max</th>\n",
       "      <td>8.000000</td>\n",
       "      <td>8.000000</td>\n",
       "      <td>8.000000</td>\n",
       "      <td>8.000000</td>\n",
       "      <td>8.000000</td>\n",
       "      <td>8.000000</td>\n",
       "    </tr>\n",
       "  </tbody>\n",
       "</table>\n",
       "</div>"
      ],
      "text/plain": [
       "              PAY_1         PAY_2         PAY_3         PAY_4         PAY_5  \\\n",
       "count  30000.000000  30000.000000  30000.000000  30000.000000  30000.000000   \n",
       "mean      -0.016700     -0.133767     -0.166200     -0.220667     -0.266200   \n",
       "std        1.123802      1.197186      1.196868      1.169139      1.133187   \n",
       "min       -2.000000     -2.000000     -2.000000     -2.000000     -2.000000   \n",
       "25%       -1.000000     -1.000000     -1.000000     -1.000000     -1.000000   \n",
       "50%        0.000000      0.000000      0.000000      0.000000      0.000000   \n",
       "75%        0.000000      0.000000      0.000000      0.000000      0.000000   \n",
       "max        8.000000      8.000000      8.000000      8.000000      8.000000   \n",
       "\n",
       "              PAY_6  \n",
       "count  30000.000000  \n",
       "mean      -0.291100  \n",
       "std        1.149988  \n",
       "min       -2.000000  \n",
       "25%       -1.000000  \n",
       "50%        0.000000  \n",
       "75%        0.000000  \n",
       "max        8.000000  "
      ]
     },
     "execution_count": 11,
     "metadata": {},
     "output_type": "execute_result"
    }
   ],
   "source": [
    "df[['PAY_1','PAY_2', 'PAY_3', 'PAY_4', 'PAY_5', 'PAY_6']].describe()"
   ]
  },
  {
   "cell_type": "code",
   "execution_count": 12,
   "metadata": {
    "ExecuteTime": {
     "end_time": "2019-10-30T04:43:05.404971Z",
     "start_time": "2019-10-30T04:43:05.377377Z"
    }
   },
   "outputs": [
    {
     "data": {
      "text/html": [
       "<div>\n",
       "<style scoped>\n",
       "    .dataframe tbody tr th:only-of-type {\n",
       "        vertical-align: middle;\n",
       "    }\n",
       "\n",
       "    .dataframe tbody tr th {\n",
       "        vertical-align: top;\n",
       "    }\n",
       "\n",
       "    .dataframe thead th {\n",
       "        text-align: right;\n",
       "    }\n",
       "</style>\n",
       "<table border=\"1\" class=\"dataframe\">\n",
       "  <thead>\n",
       "    <tr style=\"text-align: right;\">\n",
       "      <th></th>\n",
       "      <th>BILL_AMT1</th>\n",
       "      <th>BILL_AMT2</th>\n",
       "      <th>BILL_AMT3</th>\n",
       "      <th>BILL_AMT4</th>\n",
       "      <th>BILL_AMT5</th>\n",
       "      <th>BILL_AMT6</th>\n",
       "    </tr>\n",
       "  </thead>\n",
       "  <tbody>\n",
       "    <tr>\n",
       "      <th>count</th>\n",
       "      <td>30000.000000</td>\n",
       "      <td>30000.000000</td>\n",
       "      <td>3.000000e+04</td>\n",
       "      <td>30000.000000</td>\n",
       "      <td>30000.000000</td>\n",
       "      <td>30000.000000</td>\n",
       "    </tr>\n",
       "    <tr>\n",
       "      <th>mean</th>\n",
       "      <td>51223.330900</td>\n",
       "      <td>49179.075167</td>\n",
       "      <td>4.701315e+04</td>\n",
       "      <td>43262.948967</td>\n",
       "      <td>40311.400967</td>\n",
       "      <td>38871.760400</td>\n",
       "    </tr>\n",
       "    <tr>\n",
       "      <th>std</th>\n",
       "      <td>73635.860576</td>\n",
       "      <td>71173.768783</td>\n",
       "      <td>6.934939e+04</td>\n",
       "      <td>64332.856134</td>\n",
       "      <td>60797.155770</td>\n",
       "      <td>59554.107537</td>\n",
       "    </tr>\n",
       "    <tr>\n",
       "      <th>min</th>\n",
       "      <td>-165580.000000</td>\n",
       "      <td>-69777.000000</td>\n",
       "      <td>-1.572640e+05</td>\n",
       "      <td>-170000.000000</td>\n",
       "      <td>-81334.000000</td>\n",
       "      <td>-339603.000000</td>\n",
       "    </tr>\n",
       "    <tr>\n",
       "      <th>25%</th>\n",
       "      <td>3558.750000</td>\n",
       "      <td>2984.750000</td>\n",
       "      <td>2.666250e+03</td>\n",
       "      <td>2326.750000</td>\n",
       "      <td>1763.000000</td>\n",
       "      <td>1256.000000</td>\n",
       "    </tr>\n",
       "    <tr>\n",
       "      <th>50%</th>\n",
       "      <td>22381.500000</td>\n",
       "      <td>21200.000000</td>\n",
       "      <td>2.008850e+04</td>\n",
       "      <td>19052.000000</td>\n",
       "      <td>18104.500000</td>\n",
       "      <td>17071.000000</td>\n",
       "    </tr>\n",
       "    <tr>\n",
       "      <th>75%</th>\n",
       "      <td>67091.000000</td>\n",
       "      <td>64006.250000</td>\n",
       "      <td>6.016475e+04</td>\n",
       "      <td>54506.000000</td>\n",
       "      <td>50190.500000</td>\n",
       "      <td>49198.250000</td>\n",
       "    </tr>\n",
       "    <tr>\n",
       "      <th>max</th>\n",
       "      <td>964511.000000</td>\n",
       "      <td>983931.000000</td>\n",
       "      <td>1.664089e+06</td>\n",
       "      <td>891586.000000</td>\n",
       "      <td>927171.000000</td>\n",
       "      <td>961664.000000</td>\n",
       "    </tr>\n",
       "  </tbody>\n",
       "</table>\n",
       "</div>"
      ],
      "text/plain": [
       "           BILL_AMT1      BILL_AMT2     BILL_AMT3      BILL_AMT4  \\\n",
       "count   30000.000000   30000.000000  3.000000e+04   30000.000000   \n",
       "mean    51223.330900   49179.075167  4.701315e+04   43262.948967   \n",
       "std     73635.860576   71173.768783  6.934939e+04   64332.856134   \n",
       "min   -165580.000000  -69777.000000 -1.572640e+05 -170000.000000   \n",
       "25%      3558.750000    2984.750000  2.666250e+03    2326.750000   \n",
       "50%     22381.500000   21200.000000  2.008850e+04   19052.000000   \n",
       "75%     67091.000000   64006.250000  6.016475e+04   54506.000000   \n",
       "max    964511.000000  983931.000000  1.664089e+06  891586.000000   \n",
       "\n",
       "           BILL_AMT5      BILL_AMT6  \n",
       "count   30000.000000   30000.000000  \n",
       "mean    40311.400967   38871.760400  \n",
       "std     60797.155770   59554.107537  \n",
       "min    -81334.000000 -339603.000000  \n",
       "25%      1763.000000    1256.000000  \n",
       "50%     18104.500000   17071.000000  \n",
       "75%     50190.500000   49198.250000  \n",
       "max    927171.000000  961664.000000  "
      ]
     },
     "execution_count": 12,
     "metadata": {},
     "output_type": "execute_result"
    }
   ],
   "source": [
    "df[['BILL_AMT1', 'BILL_AMT2', 'BILL_AMT3', 'BILL_AMT4', 'BILL_AMT5', 'BILL_AMT6']].describe()"
   ]
  },
  {
   "cell_type": "code",
   "execution_count": 13,
   "metadata": {
    "ExecuteTime": {
     "end_time": "2019-10-30T04:43:05.591457Z",
     "start_time": "2019-10-30T04:43:05.564927Z"
    }
   },
   "outputs": [
    {
     "data": {
      "text/html": [
       "<div>\n",
       "<style scoped>\n",
       "    .dataframe tbody tr th:only-of-type {\n",
       "        vertical-align: middle;\n",
       "    }\n",
       "\n",
       "    .dataframe tbody tr th {\n",
       "        vertical-align: top;\n",
       "    }\n",
       "\n",
       "    .dataframe thead th {\n",
       "        text-align: right;\n",
       "    }\n",
       "</style>\n",
       "<table border=\"1\" class=\"dataframe\">\n",
       "  <thead>\n",
       "    <tr style=\"text-align: right;\">\n",
       "      <th></th>\n",
       "      <th>PAY_AMT1</th>\n",
       "      <th>PAY_AMT2</th>\n",
       "      <th>PAY_AMT3</th>\n",
       "      <th>PAY_AMT4</th>\n",
       "      <th>PAY_AMT5</th>\n",
       "      <th>PAY_AMT6</th>\n",
       "    </tr>\n",
       "  </thead>\n",
       "  <tbody>\n",
       "    <tr>\n",
       "      <th>count</th>\n",
       "      <td>30000.000000</td>\n",
       "      <td>3.000000e+04</td>\n",
       "      <td>30000.00000</td>\n",
       "      <td>30000.000000</td>\n",
       "      <td>30000.000000</td>\n",
       "      <td>30000.000000</td>\n",
       "    </tr>\n",
       "    <tr>\n",
       "      <th>mean</th>\n",
       "      <td>5663.580500</td>\n",
       "      <td>5.921163e+03</td>\n",
       "      <td>5225.68150</td>\n",
       "      <td>4826.076867</td>\n",
       "      <td>4799.387633</td>\n",
       "      <td>5215.502567</td>\n",
       "    </tr>\n",
       "    <tr>\n",
       "      <th>std</th>\n",
       "      <td>16563.280354</td>\n",
       "      <td>2.304087e+04</td>\n",
       "      <td>17606.96147</td>\n",
       "      <td>15666.159744</td>\n",
       "      <td>15278.305679</td>\n",
       "      <td>17777.465775</td>\n",
       "    </tr>\n",
       "    <tr>\n",
       "      <th>min</th>\n",
       "      <td>0.000000</td>\n",
       "      <td>0.000000e+00</td>\n",
       "      <td>0.00000</td>\n",
       "      <td>0.000000</td>\n",
       "      <td>0.000000</td>\n",
       "      <td>0.000000</td>\n",
       "    </tr>\n",
       "    <tr>\n",
       "      <th>25%</th>\n",
       "      <td>1000.000000</td>\n",
       "      <td>8.330000e+02</td>\n",
       "      <td>390.00000</td>\n",
       "      <td>296.000000</td>\n",
       "      <td>252.500000</td>\n",
       "      <td>117.750000</td>\n",
       "    </tr>\n",
       "    <tr>\n",
       "      <th>50%</th>\n",
       "      <td>2100.000000</td>\n",
       "      <td>2.009000e+03</td>\n",
       "      <td>1800.00000</td>\n",
       "      <td>1500.000000</td>\n",
       "      <td>1500.000000</td>\n",
       "      <td>1500.000000</td>\n",
       "    </tr>\n",
       "    <tr>\n",
       "      <th>75%</th>\n",
       "      <td>5006.000000</td>\n",
       "      <td>5.000000e+03</td>\n",
       "      <td>4505.00000</td>\n",
       "      <td>4013.250000</td>\n",
       "      <td>4031.500000</td>\n",
       "      <td>4000.000000</td>\n",
       "    </tr>\n",
       "    <tr>\n",
       "      <th>max</th>\n",
       "      <td>873552.000000</td>\n",
       "      <td>1.684259e+06</td>\n",
       "      <td>896040.00000</td>\n",
       "      <td>621000.000000</td>\n",
       "      <td>426529.000000</td>\n",
       "      <td>528666.000000</td>\n",
       "    </tr>\n",
       "  </tbody>\n",
       "</table>\n",
       "</div>"
      ],
      "text/plain": [
       "            PAY_AMT1      PAY_AMT2      PAY_AMT3       PAY_AMT4  \\\n",
       "count   30000.000000  3.000000e+04   30000.00000   30000.000000   \n",
       "mean     5663.580500  5.921163e+03    5225.68150    4826.076867   \n",
       "std     16563.280354  2.304087e+04   17606.96147   15666.159744   \n",
       "min         0.000000  0.000000e+00       0.00000       0.000000   \n",
       "25%      1000.000000  8.330000e+02     390.00000     296.000000   \n",
       "50%      2100.000000  2.009000e+03    1800.00000    1500.000000   \n",
       "75%      5006.000000  5.000000e+03    4505.00000    4013.250000   \n",
       "max    873552.000000  1.684259e+06  896040.00000  621000.000000   \n",
       "\n",
       "            PAY_AMT5       PAY_AMT6  \n",
       "count   30000.000000   30000.000000  \n",
       "mean     4799.387633    5215.502567  \n",
       "std     15278.305679   17777.465775  \n",
       "min         0.000000       0.000000  \n",
       "25%       252.500000     117.750000  \n",
       "50%      1500.000000    1500.000000  \n",
       "75%      4031.500000    4000.000000  \n",
       "max    426529.000000  528666.000000  "
      ]
     },
     "execution_count": 13,
     "metadata": {},
     "output_type": "execute_result"
    }
   ],
   "source": [
    "df[['PAY_AMT1','PAY_AMT2', 'PAY_AMT3', 'PAY_AMT4', 'PAY_AMT5', 'PAY_AMT6']].describe()"
   ]
  },
  {
   "cell_type": "code",
   "execution_count": 14,
   "metadata": {
    "ExecuteTime": {
     "end_time": "2019-10-30T04:43:05.834526Z",
     "start_time": "2019-10-30T04:43:05.831384Z"
    }
   },
   "outputs": [],
   "source": [
    "# Extract all our features\n",
    "# Get the second column through the second last column\n",
    "# The last column is the target vector\n",
    "X_raw = df.iloc[:,1:-1]\n",
    "\n",
    "# Extract the target vector which is where the client defaults on payment\n",
    "y = df['DEFAULT']"
   ]
  },
  {
   "cell_type": "code",
   "execution_count": 15,
   "metadata": {
    "ExecuteTime": {
     "end_time": "2019-10-30T04:43:05.965434Z",
     "start_time": "2019-10-30T04:43:05.962463Z"
    }
   },
   "outputs": [
    {
     "name": "stdout",
     "output_type": "stream",
     "text": [
      "Index(['LIMIT_BAL', 'SEX', 'EDUCATION', 'MARRIAGE', 'AGE', 'PAY_1', 'PAY_2',\n",
      "       'PAY_3', 'PAY_4', 'PAY_5', 'PAY_6', 'BILL_AMT1', 'BILL_AMT2',\n",
      "       'BILL_AMT3', 'BILL_AMT4', 'BILL_AMT5', 'BILL_AMT6', 'PAY_AMT1',\n",
      "       'PAY_AMT2', 'PAY_AMT3', 'PAY_AMT4', 'PAY_AMT5', 'PAY_AMT6'],\n",
      "      dtype='object')\n",
      "<class 'pandas.core.frame.DataFrame'>\n",
      "(30000, 23)\n"
     ]
    }
   ],
   "source": [
    "print(X_raw.columns)\n",
    "print(type(X_raw))\n",
    "print(X_raw.shape)"
   ]
  },
  {
   "cell_type": "code",
   "execution_count": 16,
   "metadata": {
    "ExecuteTime": {
     "end_time": "2019-10-30T04:43:06.131638Z",
     "start_time": "2019-10-30T04:43:06.128888Z"
    }
   },
   "outputs": [
    {
     "name": "stdout",
     "output_type": "stream",
     "text": [
      "<class 'pandas.core.series.Series'>\n",
      "(30000,)\n"
     ]
    }
   ],
   "source": [
    "print(type(y))\n",
    "print(y.shape)"
   ]
  },
  {
   "cell_type": "code",
   "execution_count": 17,
   "metadata": {
    "ExecuteTime": {
     "end_time": "2019-10-30T04:43:07.081237Z",
     "start_time": "2019-10-30T04:43:07.076385Z"
    }
   },
   "outputs": [
    {
     "name": "stdout",
     "output_type": "stream",
     "text": [
      "Total number of non-defaults = 23364\n",
      "Total number of defaults = 6636\n",
      "Percentage of defaults = 22.12 %\n"
     ]
    }
   ],
   "source": [
    "# How many default and not default. Let's take a look\n",
    "n_defaults  = y.sum()\n",
    "nn_defaults = y.shape[0] - n_defaults\n",
    "\n",
    "print('Total number of non-defaults =',nn_defaults)\n",
    "print('Total number of defaults =',n_defaults)\n",
    "\n",
    "print('Percentage of defaults =', y.sum()/len(y)*100,'%')"
   ]
  },
  {
   "cell_type": "code",
   "execution_count": 19,
   "metadata": {
    "ExecuteTime": {
     "end_time": "2019-10-30T04:43:31.982579Z",
     "start_time": "2019-10-30T04:43:29.396925Z"
    }
   },
   "outputs": [
    {
     "data": {
      "image/png": "[encoded data removed]",
      "text/plain": [
       "<Figure size 2160x2160 with 2 Axes>"
      ]
     },
     "metadata": {
      "needs_background": "light"
     },
     "output_type": "display_data"
    }
   ],
   "source": [
    "# Making correlation coefficients pair plot of all feature in order to identify degenrate features\n",
    "# Minor modification from Mahyar M. Moghadam (Kaggle) which has awesome visuals\n",
    "plt.figure(figsize=(30,30))\n",
    "ax = plt.axes()\n",
    "#corr = df.drop(['ID'], axis=1).corr()\n",
    "correlation = df.corr()\n",
    "sns.heatmap(correlation, vmax=1,vmin=-1, square=True, annot=True, cmap='coolwarm',linecolor=\"white\", linewidths=0.01, ax=ax)\n",
    "ax.set_title('Correlation Diagram Credit Card Default',fontweight=\"bold\", size=30)\n",
    "plt.savefig('corr_matrix.svg')\n",
    "plt.show()"
   ]
  },
  {
   "cell_type": "code",
   "execution_count": 20,
   "metadata": {
    "ExecuteTime": {
     "end_time": "2019-10-30T04:43:35.014195Z",
     "start_time": "2019-10-30T04:43:35.009133Z"
    }
   },
   "outputs": [],
   "source": [
    "# Get those that defaulted\n",
    "df_def = df[df['DEFAULT']==1];\n",
    "\n",
    "#print(df_def.index);"
   ]
  },
  {
   "cell_type": "code",
   "execution_count": 21,
   "metadata": {
    "ExecuteTime": {
     "end_time": "2019-10-30T04:43:35.208817Z",
     "start_time": "2019-10-30T04:43:35.195463Z"
    }
   },
   "outputs": [
    {
     "data": {
      "text/html": [
       "<div>\n",
       "<style scoped>\n",
       "    .dataframe tbody tr th:only-of-type {\n",
       "        vertical-align: middle;\n",
       "    }\n",
       "\n",
       "    .dataframe tbody tr th {\n",
       "        vertical-align: top;\n",
       "    }\n",
       "\n",
       "    .dataframe thead th {\n",
       "        text-align: right;\n",
       "    }\n",
       "</style>\n",
       "<table border=\"1\" class=\"dataframe\">\n",
       "  <thead>\n",
       "    <tr style=\"text-align: right;\">\n",
       "      <th></th>\n",
       "      <th>ID</th>\n",
       "      <th>LIMIT_BAL</th>\n",
       "      <th>SEX</th>\n",
       "      <th>EDUCATION</th>\n",
       "      <th>MARRIAGE</th>\n",
       "      <th>AGE</th>\n",
       "      <th>PAY_1</th>\n",
       "      <th>PAY_2</th>\n",
       "      <th>PAY_3</th>\n",
       "      <th>PAY_4</th>\n",
       "      <th>...</th>\n",
       "      <th>BILL_AMT4</th>\n",
       "      <th>BILL_AMT5</th>\n",
       "      <th>BILL_AMT6</th>\n",
       "      <th>PAY_AMT1</th>\n",
       "      <th>PAY_AMT2</th>\n",
       "      <th>PAY_AMT3</th>\n",
       "      <th>PAY_AMT4</th>\n",
       "      <th>PAY_AMT5</th>\n",
       "      <th>PAY_AMT6</th>\n",
       "      <th>DEFAULT</th>\n",
       "    </tr>\n",
       "  </thead>\n",
       "  <tbody>\n",
       "    <tr>\n",
       "      <th>0</th>\n",
       "      <td>1</td>\n",
       "      <td>20000</td>\n",
       "      <td>2</td>\n",
       "      <td>2</td>\n",
       "      <td>1</td>\n",
       "      <td>24</td>\n",
       "      <td>2</td>\n",
       "      <td>2</td>\n",
       "      <td>-1</td>\n",
       "      <td>-1</td>\n",
       "      <td>...</td>\n",
       "      <td>0</td>\n",
       "      <td>0</td>\n",
       "      <td>0</td>\n",
       "      <td>0</td>\n",
       "      <td>689</td>\n",
       "      <td>0</td>\n",
       "      <td>0</td>\n",
       "      <td>0</td>\n",
       "      <td>0</td>\n",
       "      <td>1</td>\n",
       "    </tr>\n",
       "    <tr>\n",
       "      <th>1</th>\n",
       "      <td>2</td>\n",
       "      <td>120000</td>\n",
       "      <td>2</td>\n",
       "      <td>2</td>\n",
       "      <td>2</td>\n",
       "      <td>26</td>\n",
       "      <td>-1</td>\n",
       "      <td>2</td>\n",
       "      <td>0</td>\n",
       "      <td>0</td>\n",
       "      <td>...</td>\n",
       "      <td>3272</td>\n",
       "      <td>3455</td>\n",
       "      <td>3261</td>\n",
       "      <td>0</td>\n",
       "      <td>1000</td>\n",
       "      <td>1000</td>\n",
       "      <td>1000</td>\n",
       "      <td>0</td>\n",
       "      <td>2000</td>\n",
       "      <td>1</td>\n",
       "    </tr>\n",
       "    <tr>\n",
       "      <th>13</th>\n",
       "      <td>14</td>\n",
       "      <td>70000</td>\n",
       "      <td>1</td>\n",
       "      <td>2</td>\n",
       "      <td>2</td>\n",
       "      <td>30</td>\n",
       "      <td>1</td>\n",
       "      <td>2</td>\n",
       "      <td>2</td>\n",
       "      <td>0</td>\n",
       "      <td>...</td>\n",
       "      <td>66782</td>\n",
       "      <td>36137</td>\n",
       "      <td>36894</td>\n",
       "      <td>3200</td>\n",
       "      <td>0</td>\n",
       "      <td>3000</td>\n",
       "      <td>3000</td>\n",
       "      <td>1500</td>\n",
       "      <td>0</td>\n",
       "      <td>1</td>\n",
       "    </tr>\n",
       "    <tr>\n",
       "      <th>16</th>\n",
       "      <td>17</td>\n",
       "      <td>20000</td>\n",
       "      <td>1</td>\n",
       "      <td>1</td>\n",
       "      <td>2</td>\n",
       "      <td>24</td>\n",
       "      <td>0</td>\n",
       "      <td>0</td>\n",
       "      <td>2</td>\n",
       "      <td>2</td>\n",
       "      <td>...</td>\n",
       "      <td>18338</td>\n",
       "      <td>17905</td>\n",
       "      <td>19104</td>\n",
       "      <td>3200</td>\n",
       "      <td>0</td>\n",
       "      <td>1500</td>\n",
       "      <td>0</td>\n",
       "      <td>1650</td>\n",
       "      <td>0</td>\n",
       "      <td>1</td>\n",
       "    </tr>\n",
       "    <tr>\n",
       "      <th>21</th>\n",
       "      <td>22</td>\n",
       "      <td>120000</td>\n",
       "      <td>2</td>\n",
       "      <td>2</td>\n",
       "      <td>1</td>\n",
       "      <td>39</td>\n",
       "      <td>-1</td>\n",
       "      <td>-1</td>\n",
       "      <td>-1</td>\n",
       "      <td>-1</td>\n",
       "      <td>...</td>\n",
       "      <td>0</td>\n",
       "      <td>632</td>\n",
       "      <td>316</td>\n",
       "      <td>316</td>\n",
       "      <td>316</td>\n",
       "      <td>0</td>\n",
       "      <td>632</td>\n",
       "      <td>316</td>\n",
       "      <td>0</td>\n",
       "      <td>1</td>\n",
       "    </tr>\n",
       "  </tbody>\n",
       "</table>\n",
       "<p>5 rows × 25 columns</p>\n",
       "</div>"
      ],
      "text/plain": [
       "    ID  LIMIT_BAL  SEX  EDUCATION  MARRIAGE  AGE  PAY_1  PAY_2  PAY_3  PAY_4  \\\n",
       "0    1      20000    2          2         1   24      2      2     -1     -1   \n",
       "1    2     120000    2          2         2   26     -1      2      0      0   \n",
       "13  14      70000    1          2         2   30      1      2      2      0   \n",
       "16  17      20000    1          1         2   24      0      0      2      2   \n",
       "21  22     120000    2          2         1   39     -1     -1     -1     -1   \n",
       "\n",
       "    ...  BILL_AMT4  BILL_AMT5  BILL_AMT6  PAY_AMT1  PAY_AMT2  PAY_AMT3  \\\n",
       "0   ...          0          0          0         0       689         0   \n",
       "1   ...       3272       3455       3261         0      1000      1000   \n",
       "13  ...      66782      36137      36894      3200         0      3000   \n",
       "16  ...      18338      17905      19104      3200         0      1500   \n",
       "21  ...          0        632        316       316       316         0   \n",
       "\n",
       "    PAY_AMT4  PAY_AMT5  PAY_AMT6  DEFAULT  \n",
       "0          0         0         0        1  \n",
       "1       1000         0      2000        1  \n",
       "13      3000      1500         0        1  \n",
       "16         0      1650         0        1  \n",
       "21       632       316         0        1  \n",
       "\n",
       "[5 rows x 25 columns]"
      ]
     },
     "execution_count": 21,
     "metadata": {},
     "output_type": "execute_result"
    }
   ],
   "source": [
    "# Now I need to get the total sum of losses from those that did default\n",
    "df_def.head(5)"
   ]
  },
  {
   "cell_type": "markdown",
   "metadata": {},
   "source": [
    "#### Loss/Gain Specification and Details"
   ]
  },
  {
   "cell_type": "markdown",
   "metadata": {},
   "source": [
    "##### Loss Due to Default"
   ]
  },
  {
   "cell_type": "code",
   "execution_count": 22,
   "metadata": {
    "ExecuteTime": {
     "end_time": "2019-10-30T04:43:36.785092Z",
     "start_time": "2019-10-30T04:43:36.775917Z"
    }
   },
   "outputs": [
    {
     "name": "stdout",
     "output_type": "stream",
     "text": [
      "Total losses of defaults: $321,906,801.00\n",
      "Average Default per Person: $   48,509.16\n"
     ]
    }
   ],
   "source": [
    "# Get total amount of losses due to defaults\n",
    "df_def_bill_amnt = df_def[['BILL_AMT1','BILL_AMT2','BILL_AMT3','BILL_AMT4','BILL_AMT5','BILL_AMT6']]\n",
    "\n",
    "list_bill_def_amt = df_def_bill_amnt.values.tolist()\n",
    "\n",
    "#print(list_bill_def_amt)\n",
    "\n",
    "# We want to the last bill balance that was not paid\n",
    "def_amnt = []\n",
    "\n",
    "counter = 0\n",
    "\n",
    "for i_list_bill in list_bill_def_amt:\n",
    "            \n",
    "    #if (i_list_bill.count(0) < 6):\n",
    "    #    imax = np.max(np.nonzero(i_list_bill))\n",
    "    #    def_amnt.append(i_list_bill[imax])\n",
    "    #else:\n",
    "    #    def_amnt.append(0)\n",
    "    def_amnt.append(i_list_bill[0])\n",
    "\n",
    "#print(def_amnt)\n",
    "#print(len(def_amnt))\n",
    "#print(sum(def_amnt))\n",
    "\n",
    "total_def_amnt = sum(def_amnt)\n",
    "\n",
    "print (\"Total losses of defaults: ${:12,.2f}\".format(total_def_amnt))\n",
    "\n",
    "avg_default_loss = float(total_def_amnt)/float(n_defaults)\n",
    "\n",
    "print (\"Average Default per Person: ${:12,.2f}\".format(avg_default_loss))\n"
   ]
  },
  {
   "cell_type": "markdown",
   "metadata": {},
   "source": [
    "##### Loss or Gain due to No Defaults"
   ]
  },
  {
   "cell_type": "code",
   "execution_count": 23,
   "metadata": {
    "ExecuteTime": {
     "end_time": "2019-10-30T04:43:38.717703Z",
     "start_time": "2019-10-30T04:43:38.712616Z"
    }
   },
   "outputs": [],
   "source": [
    "# Lets do the same for those who do NOT default\n",
    "df_no_def = df[df['DEFAULT']==0]\n"
   ]
  },
  {
   "cell_type": "code",
   "execution_count": 94,
   "metadata": {
    "ExecuteTime": {
     "end_time": "2019-10-30T16:57:18.346851Z",
     "start_time": "2019-10-30T16:57:18.318235Z"
    }
   },
   "outputs": [
    {
     "name": "stdout",
     "output_type": "stream",
     "text": [
      "0.01643013698630137\n",
      "Total account balance of non-defaults before APR: $6,365,029,003.00\n",
      "Average revenue before APR: $  272,428.91\n",
      "Total interest from non-defaults after APR: $   27,983.86\n",
      "Total Revenue Collected from APR in six months: $653,814,947.57\n",
      "Profit: $331,908,146.57\n"
     ]
    }
   ],
   "source": [
    "df_no_def_bill_amnt = df_no_def[['BILL_AMT1','BILL_AMT2','BILL_AMT3','BILL_AMT4','BILL_AMT5','BILL_AMT6']]\n",
    "\n",
    "list_bill_no_def_amt = df_no_def_bill_amnt.values.tolist()\n",
    "\n",
    "# We want to the last bill balance that was not paid\n",
    "no_def_amnt = []\n",
    "\n",
    "for ii_list_bill in list_bill_no_def_amt:\n",
    "        \n",
    "    #if (ii_list_bill.count(0) < 6):\n",
    "    #    iimax = np.max(np.nonzero(ii_list_bill))\n",
    "    #    no_def_amnt.append(ii_list_bill[iimax])\n",
    "    #else:\n",
    "    #    no_def_amnt.append(0)\n",
    "    \n",
    "    # This should be summing up all balances and then\n",
    "    # use it as revenue after APR is applied\n",
    "    \n",
    "    temp_sum = sum(ii_list_bill)   # Total up for the past six months\n",
    "    \n",
    "    no_def_amnt.append(temp_sum)\n",
    "        \n",
    "#print(no_def_amnt)\n",
    "#print(sum(def_amnt))\n",
    "\n",
    "#print(no_def_amnt)\n",
    "\n",
    "total_no_def_balance = sum(no_def_amnt)\n",
    "\n",
    "# We have to assume an Annual Percentage Rate\n",
    "APR = 19.99   # This is in percent (Yes, very high)\n",
    "\n",
    "monthly_APR = APR/365*30/100\n",
    "\n",
    "print(monthly_APR)\n",
    "\n",
    "avg_no_def_amnt_for_six_months = float(total_no_def_balance)/float(nn_defaults)\n",
    "\n",
    "#print((1 + monthly_APR)**6)\n",
    "\n",
    "#six_month_rev_apr = monthly_APR**6*avg_no_def_amnt\n",
    "six_month_rev_apr = avg_no_def_amnt_for_six_months*( (1 + monthly_APR)**6 - 1) \n",
    "\n",
    "total_rev_from_interest_six_months = total_no_def_balance*( (1 + monthly_APR)**6 - 1 )\n",
    "            \n",
    "print (\"Total account balance of non-defaults before APR: ${:12,.2f}\".format(total_no_def_balance))\n",
    "\n",
    "print (\"Average revenue before APR: ${:12,.2f}\".format(avg_no_def_amnt_for_six_months))\n",
    "\n",
    "print(\"Total interest from non-defaults after APR: ${:12,.2f}\".format(six_month_rev_apr))\n",
    "\n",
    "#print(\"Monthly average APR Charge per account: ${:12,.2f}\".format(six_month_rev_apr))\n",
    "print(\"Total Revenue Collected from APR in six months: ${:12,.2f}\".format(total_rev_from_interest_six_months))\n",
    "\n",
    "print(\"Profit: ${:12,.2f}\".format(total_rev_from_interest_six_months - total_def_amnt))"
   ]
  },
  {
   "cell_type": "markdown",
   "metadata": {},
   "source": [
    "#### Split Raw Data into Train Test"
   ]
  },
  {
   "cell_type": "code",
   "execution_count": 31,
   "metadata": {
    "ExecuteTime": {
     "end_time": "2019-10-30T04:59:09.263859Z",
     "start_time": "2019-10-30T04:59:09.260559Z"
    }
   },
   "outputs": [],
   "source": [
    "# Train test split function\n",
    "def get_train_test_split_data(X_in,y_in,test_sample_size,seed):\n",
    "        \n",
    "    X_tr, X_te, y_tr, y_te = train_test_split(X_in, y_in, test_size=test_sample_size, random_state=seed)\n",
    "    \n",
    "    return X_tr, X_te, y_tr, y_te"
   ]
  },
  {
   "cell_type": "code",
   "execution_count": 32,
   "metadata": {
    "ExecuteTime": {
     "end_time": "2019-10-30T04:59:09.640318Z",
     "start_time": "2019-10-30T04:59:09.630606Z"
    }
   },
   "outputs": [],
   "source": [
    "# Train test split on the raw data\n",
    "X_train_raw, X_test_raw, y_train, y_test = get_train_test_split_data(X_raw, y, sample_test_size, random_seed)"
   ]
  },
  {
   "cell_type": "code",
   "execution_count": 33,
   "metadata": {
    "ExecuteTime": {
     "end_time": "2019-10-30T04:59:09.831482Z",
     "start_time": "2019-10-30T04:59:09.827746Z"
    }
   },
   "outputs": [
    {
     "name": "stdout",
     "output_type": "stream",
     "text": [
      "Total number of defaults in test set = 1313\n",
      "Percentage of defaults in test set = 21.883333333333333 %\n"
     ]
    }
   ],
   "source": [
    "n_defaults_test = y_test.sum()\n",
    "\n",
    "print('Total number of defaults in test set =',n_defaults_test)\n",
    "\n",
    "print('Percentage of defaults in test set =', y_test.sum()/len(y_test)*100,'%')"
   ]
  },
  {
   "cell_type": "markdown",
   "metadata": {},
   "source": [
    "#### Feature Scaling"
   ]
  },
  {
   "cell_type": "code",
   "execution_count": 34,
   "metadata": {
    "ExecuteTime": {
     "end_time": "2019-10-30T04:59:11.391644Z",
     "start_time": "2019-10-30T04:59:11.389161Z"
    }
   },
   "outputs": [],
   "source": [
    "# Create a function to normalize via standard scalar\n",
    "def scale_features(X_org):\n",
    "    \n",
    "    # Scale each column\n",
    "    sc = StandardScaler()\n",
    "    X_scaled = sc.fit_transform(X_org)\n",
    "    \n",
    "    return (sc, X_scaled)"
   ]
  },
  {
   "cell_type": "code",
   "execution_count": 35,
   "metadata": {
    "ExecuteTime": {
     "end_time": "2019-10-30T04:59:11.497478Z",
     "start_time": "2019-10-30T04:59:11.480170Z"
    }
   },
   "outputs": [
    {
     "name": "stdout",
     "output_type": "stream",
     "text": [
      "<class 'numpy.ndarray'>\n",
      "(24000, 23)\n",
      "(6000, 23)\n",
      "StandardScaler(copy=True, with_mean=True, with_std=True)\n"
     ]
    }
   ],
   "source": [
    "# Scale training and test set separately\n",
    "scaler, X_train = scale_features(X_train_raw)\n",
    "\n",
    "X_test = scaler.transform(X_test_raw)\n",
    "\n",
    "print(type(X_train))\n",
    "print(X_train.shape)\n",
    "print(X_test.shape)\n",
    "print(scaler)"
   ]
  },
  {
   "cell_type": "code",
   "execution_count": 36,
   "metadata": {
    "ExecuteTime": {
     "end_time": "2019-10-30T04:59:11.584583Z",
     "start_time": "2019-10-30T04:59:11.582511Z"
    }
   },
   "outputs": [],
   "source": [
    "# Look at the index of the say y_test that are equal to 1\n",
    "#print(y_test==1)\n",
    "# So the global index is preserved after the train test split!"
   ]
  },
  {
   "cell_type": "code",
   "execution_count": null,
   "metadata": {
    "ExecuteTime": {
     "end_time": "2019-10-25T00:37:32.721673Z",
     "start_time": "2019-10-25T00:37:32.719021Z"
    }
   },
   "outputs": [],
   "source": [
    "# Not used but to get an idea of what the data looks like\n",
    "'''Xdf = pd.DataFrame(X)\n",
    "Xdf = pd.DataFrame(Xdf.values,columns=list(['LIMIT_BAL', 'SEX', 'EDUCATION', \n",
    "                                            'MARRIAGE', 'AGE', \n",
    "                                            'PAY_1', 'PAY_2','PAY_3', 'PAY_4', \n",
    "                                            'PAY_5', 'PAY_6', 'BILL_AMT1', \n",
    "                                            'BILL_AMT2','BILL_AMT3', 'BILL_AMT4', \n",
    "                                            'BILL_AMT5', 'BILL_AMT6', 'PAY_AMT1',\n",
    "                                            'PAY_AMT2', 'PAY_AMT3', 'PAY_AMT4', \n",
    "                                            'PAY_AMT5', 'PAY_AMT6']));\n",
    "\n",
    "print(Xdf.shape)\n",
    "Xdf.head(5)''';"
   ]
  },
  {
   "cell_type": "markdown",
   "metadata": {},
   "source": [
    "### Machine Learning Classifiers"
   ]
  },
  {
   "cell_type": "markdown",
   "metadata": {
    "ExecuteTime": {
     "end_time": "2019-10-18T04:47:30.867000Z",
     "start_time": "2019-10-18T04:47:30.862607Z"
    }
   },
   "source": [
    "#### K-Nearest Neighbors"
   ]
  },
  {
   "cell_type": "code",
   "execution_count": null,
   "metadata": {
    "ExecuteTime": {
     "end_time": "2019-10-25T02:49:56.041670Z",
     "start_time": "2019-10-25T02:49:41.473864Z"
    }
   },
   "outputs": [],
   "source": [
    "# Let's train with 5 neighbors\n",
    "#k_neighbors = 5\n",
    "\n",
    "knn = KNeighborsClassifier(5)\n",
    "\n",
    "knn.fit(X_train, y_train)\n",
    "\n",
    "print(\"The score for kNN is\\n\")\n",
    "print(\"Training: {:6.2f}%\".format(100*knn.score(X_train, y_train)))\n",
    "print(\"Test set: {:6.2f}%\".format(100*knn.score(X_test, y_test)))"
   ]
  },
  {
   "cell_type": "code",
   "execution_count": null,
   "metadata": {
    "ExecuteTime": {
     "end_time": "2019-10-25T02:49:58.801604Z",
     "start_time": "2019-10-25T02:49:56.043427Z"
    }
   },
   "outputs": [],
   "source": [
    "# Let's make a prediction but for only 5 neighbours\n",
    "y_pred_1 = knn.predict(X_test)"
   ]
  },
  {
   "cell_type": "code",
   "execution_count": null,
   "metadata": {
    "ExecuteTime": {
     "end_time": "2019-10-25T02:49:58.816111Z",
     "start_time": "2019-10-25T02:49:58.804093Z"
    }
   },
   "outputs": [],
   "source": [
    "print(\"K-NN Accuracy score  =\",metrics.accuracy_score(y_test,y_pred_1))\n",
    "print(\"K-NN Recall score    =\",metrics.recall_score(y_test,y_pred_1))\n",
    "print(\"K-NN Precision score =\",metrics.precision_score(y_test,y_pred_1))\n",
    "print(\"K-NN F1-score        =\",metrics.f1_score(y_test,y_pred_1))"
   ]
  },
  {
   "cell_type": "code",
   "execution_count": null,
   "metadata": {
    "ExecuteTime": {
     "end_time": "2019-10-25T02:49:58.825964Z",
     "start_time": "2019-10-25T02:49:58.818234Z"
    }
   },
   "outputs": [],
   "source": [
    "# Print the confusion matrix\n",
    "knn_confusion_matrix_temp = confusion_matrix(y_test, y_pred_1)\n",
    "print(\"kNN confusion matrix: \\n\\n\", knn_confusion_matrix_temp, '\\n')\n",
    "\n",
    "print('Total sum of kNN =',np.sum(knn_confusion_matrix_temp),'out of',n_defaults)\n",
    "\n",
    "# There is something very wrong here. Total is 6,000 and the total defaults are 6,636\n",
    "# What happened to the other 636?"
   ]
  },
  {
   "cell_type": "code",
   "execution_count": null,
   "metadata": {
    "ExecuteTime": {
     "end_time": "2019-10-25T02:49:58.962885Z",
     "start_time": "2019-10-25T02:49:58.827414Z"
    }
   },
   "outputs": [],
   "source": [
    "plt.figure(dpi=100)\n",
    "sns.heatmap(knn_confusion_matrix_temp, cmap=plt.cm.Blues, annot=True, square=True,\n",
    "           xticklabels=[0,1],\n",
    "           yticklabels=[0,1],fmt='g')\n",
    "\n",
    "plt.xlabel('Predicted Defaults')\n",
    "plt.ylabel('Actual Defaults')\n",
    "plt.title('kNN confusion matrix, credit card default');"
   ]
  },
  {
   "cell_type": "code",
   "execution_count": null,
   "metadata": {
    "ExecuteTime": {
     "end_time": "2019-10-25T06:08:50.156502Z",
     "start_time": "2019-10-25T06:07:17.401547Z"
    }
   },
   "outputs": [],
   "source": [
    "# Perhaps we should try different values of n_neighbours\n",
    "k_range = range(1,31)\n",
    "\n",
    "scores_dict_acc = {}\n",
    "scores_dict_rec = {}\n",
    "scores_dict_prec = {}\n",
    "scores_dict_f1 = {}\n",
    "\n",
    "scores_list_acc = []\n",
    "scores_list_rec = []\n",
    "scores_list_prec = []\n",
    "scores_list_f1 = []\n",
    "\n",
    "for k in k_range:\n",
    "    knn = KNeighborsClassifier(n_neighbors=k)\n",
    "    knn.fit(X_train,y_train)\n",
    "    y_pred = knn.predict(X_test)\n",
    "    \n",
    "    scores_dict_acc[k] = metrics.accuracy_score(y_test,y_pred)\n",
    "    scores_list_acc.append(metrics.accuracy_score(y_test,y_pred))\n",
    "    \n",
    "    scores_dict_rec[k] = metrics.recall_score(y_test,y_pred)\n",
    "    scores_list_rec.append(metrics.recall_score(y_test,y_pred))\n",
    "    \n",
    "    scores_dict_prec[k] = metrics.precision_score(y_test,y_pred)\n",
    "    scores_list_prec.append(metrics.precision_score(y_test,y_pred))\n",
    "    \n",
    "    scores_dict_f1[k] = metrics.f1_score(y_test,y_pred)\n",
    "    scores_list_f1.append(metrics.f1_score(y_test,y_pred))\n",
    "\n",
    "\n",
    "\n"
   ]
  },
  {
   "cell_type": "code",
   "execution_count": null,
   "metadata": {
    "ExecuteTime": {
     "end_time": "2019-10-25T06:08:50.454577Z",
     "start_time": "2019-10-25T06:08:50.158330Z"
    }
   },
   "outputs": [],
   "source": [
    "#scores_dict_acc\n",
    "#plot the relationship between K and the testing accuracy\n",
    "plt.rc('font', size=12)\n",
    "plt.figure(figsize=(16,9));\n",
    "plt.plot(k_range,scores_list_acc,linewidth=2.5,label='KNN Accuracy');\n",
    "plt.plot(k_range,scores_list_rec,linewidth=2.5,label='KNN Recall');\n",
    "plt.plot(k_range,scores_list_prec,linewidth=2.5,label='KNN Precision');\n",
    "plt.plot(k_range,scores_list_f1,linewidth=2.5,label='KNN F1');\n",
    "plt.xlabel('Number of Neighbors, K, for KNN');\n",
    "plt.ylabel('Testing Accuracy');\n",
    "plt.grid();\n",
    "plt.title('Testing Accuracy vs Num. Neighbors');\n",
    "plt.legend(loc='best')\n",
    "plt.savefig('knn_scores.svg')\n",
    "\n",
    "\n",
    "\n",
    "# Based on the plot below the largest number in terms of accuracy appears to be 11 neighbours"
   ]
  },
  {
   "cell_type": "code",
   "execution_count": null,
   "metadata": {
    "ExecuteTime": {
     "end_time": "2019-10-25T06:08:50.460283Z",
     "start_time": "2019-10-25T06:08:50.457420Z"
    }
   },
   "outputs": [],
   "source": [
    "# Get the maximum value and the neighbour number that does it\n",
    "#values.index(min(values))\n",
    "optimum_k_num = scores_list_f1.index(max(scores_list_f1)) + 1\n",
    "print('Optimum k number =',optimum_k_num)"
   ]
  },
  {
   "cell_type": "code",
   "execution_count": null,
   "metadata": {
    "ExecuteTime": {
     "end_time": "2019-10-25T06:09:07.709528Z",
     "start_time": "2019-10-25T06:08:50.462964Z"
    }
   },
   "outputs": [],
   "source": [
    "# Lets use 11 neighbours then to make a prediction\n",
    "# Let's make a prediction but for only 11 neighbours\n",
    "knn11 = KNeighborsClassifier(optimum_k_num)\n",
    "\n",
    "knn11.fit(X_train, y_train)\n",
    "\n",
    "print(\"The score for kNN is\\n\")\n",
    "print(\"Training: {:6.2f}%\".format(100*knn11.score(X_train, y_train)))\n",
    "print(\"Test set: {:6.2f}%\".format(100*knn11.score(X_test, y_test)))\n",
    "\n",
    "y_pred_11 = knn11.predict(X_test)"
   ]
  },
  {
   "cell_type": "code",
   "execution_count": null,
   "metadata": {
    "ExecuteTime": {
     "end_time": "2019-10-25T06:09:07.887210Z",
     "start_time": "2019-10-25T06:09:07.711290Z"
    }
   },
   "outputs": [],
   "source": [
    "# Print the confusion matrix\n",
    "knn_confusion_matrix_11 = confusion_matrix(y_test, y_pred_11)\n",
    "\n",
    "tn11, fp11, fn11, tp11 = confusion_matrix(y_test, y_pred_11).ravel()\n",
    "print(\"True Negatives : \",tn11)\n",
    "print(\"False Positives: \",fp11)\n",
    "print(\"False Negatives: \",fn11)\n",
    "print(\"True Positives : \",tp11,'\\n')\n",
    "\n",
    "print(\"kNN confusion matrix: \\n\\n\", knn_confusion_matrix_11, '\\n')\n",
    "\n",
    "print('Total sum of kNN =',np.sum(knn_confusion_matrix_11),'out of',n_defaults)\n",
    "\n",
    "plt.figure(dpi=100)\n",
    "sns.heatmap(knn_confusion_matrix_11, cmap=plt.cm.Blues, annot=True, square=True,\n",
    "           xticklabels=[0,1],\n",
    "           yticklabels=[0,1],fmt='g')\n",
    "\n",
    "plt.xlabel('Predicted Defaults')\n",
    "plt.ylabel('Actual Defaults')\n",
    "plt.title('kNN confusion matrix, credit card default, 11 Neighbours');\n",
    "plt.savefig('kNN_confusion_matrix_k11.svg')"
   ]
  },
  {
   "cell_type": "code",
   "execution_count": null,
   "metadata": {
    "ExecuteTime": {
     "end_time": "2019-10-28T23:14:04.108196Z",
     "start_time": "2019-10-28T23:14:01.125007Z"
    }
   },
   "outputs": [],
   "source": [
    "# How about ROC curve\n",
    "y_scores = knn11.predict_proba(X_test)\n",
    "fpr, tpr, threshold = roc_curve(y_test, y_scores[:, 1])\n",
    "\n",
    "roc_auc = auc(fpr, tpr)"
   ]
  },
  {
   "cell_type": "code",
   "execution_count": null,
   "metadata": {
    "ExecuteTime": {
     "end_time": "2019-10-28T23:14:04.324379Z",
     "start_time": "2019-10-28T23:14:04.110177Z"
    }
   },
   "outputs": [],
   "source": [
    "plt.figure(figsize=(6,6));\n",
    "plt.title('Receiver Operating Characteristic');\n",
    "plt.plot(fpr, tpr, 'b', label = 'AUC = %0.2f' % roc_auc,lw=3);\n",
    "plt.legend(loc = 'lower right');\n",
    "plt.plot([0, 1], [0, 1],'r--',lw=3);\n",
    "plt.xlim([0, 1]);\n",
    "plt.ylim([0, 1]);\n",
    "plt.ylabel('True Positive Rate');\n",
    "plt.xlabel('False Positive Rate');\n",
    "plt.title('ROC Curve of kNN, k=11');\n",
    "plt.grid();\n",
    "plt.savefig('roc_curve_knn11.svg');\n",
    "#plt.show();"
   ]
  },
  {
   "cell_type": "code",
   "execution_count": null,
   "metadata": {
    "ExecuteTime": {
     "end_time": "2019-10-22T22:14:32.561855Z",
     "start_time": "2019-10-22T22:14:32.560033Z"
    }
   },
   "outputs": [],
   "source": [
    "# using the default threshold of 0.5, which is what vanilla predict does\n",
    "#print(\"Default threshold:\")\n",
    "#print(\"Precision: {:6.4f},   Recall: {:6.4f}\".format(precision_score(y_test, y_predict), \n",
    "#                                                     recall_score(y_test, y_predict)))"
   ]
  },
  {
   "cell_type": "markdown",
   "metadata": {},
   "source": [
    "Still need to do gridsearchCV for more efficient parameter search"
   ]
  },
  {
   "cell_type": "code",
   "execution_count": null,
   "metadata": {
    "ExecuteTime": {
     "end_time": "2019-10-29T18:32:40.067381Z",
     "start_time": "2019-10-29T18:23:01.549760Z"
    }
   },
   "outputs": [],
   "source": [
    "# Cross Validation Loop\n",
    "k_range = list(range(1, 51))\n",
    "k_scores = []\n",
    "for k in k_range:\n",
    "    knn = KNeighborsClassifier(n_neighbors=k)\n",
    "    scores = cross_val_score(knn, X_train, y_train, cv = cv_value, scoring='roc_auc') # recall score\n",
    "    #print('auc_score')\n",
    "    k_scores.append(scores.mean())\n",
    "    \n",
    "#print(k_scores)"
   ]
  },
  {
   "cell_type": "code",
   "execution_count": null,
   "metadata": {
    "ExecuteTime": {
     "end_time": "2019-10-29T18:32:40.231011Z",
     "start_time": "2019-10-29T18:32:40.069344Z"
    }
   },
   "outputs": [],
   "source": [
    "plt.figure(figsize=(13,7));\n",
    "plt.plot(k_range, k_scores, 'r' ,lw=2.5);\n",
    "plt.xlabel('Value of K for KNN');\n",
    "plt.ylabel('Cross-Validated ROC AUC');\n",
    "plt.title('Cross-Validation ROC AUC, KNN')\n",
    "plt.grid();"
   ]
  },
  {
   "cell_type": "code",
   "execution_count": null,
   "metadata": {
    "ExecuteTime": {
     "end_time": "2019-10-25T02:50:48.914340Z",
     "start_time": "2019-10-25T02:50:27.475896Z"
    }
   },
   "outputs": [],
   "source": [
    "# From the plot above looks like the best is k=30. \n",
    "# There are probably higher values but I would like\n",
    "# to minimize the compute time\n",
    "k_opt_cv = 30\n",
    "knn30 = KNeighborsClassifier(k_opt_cv)\n",
    "\n",
    "knn30.fit(X_train, y_train)\n",
    "\n",
    "print(\"The score for kNN is\\n\")\n",
    "print(\"Training: {:6.2f}%\".format(100*knn30.score(X_train, y_train)))\n",
    "print(\"Test set: {:6.2f}%\".format(100*knn30.score(X_test, y_test)))\n",
    "\n",
    "y_pred_30 = knn30.predict(X_test)\n"
   ]
  },
  {
   "cell_type": "code",
   "execution_count": null,
   "metadata": {
    "ExecuteTime": {
     "end_time": "2019-10-29T18:38:19.684456Z",
     "start_time": "2019-10-29T18:38:19.498312Z"
    }
   },
   "outputs": [],
   "source": [
    "# Print the confusion matrix\n",
    "knn_confusion_matrix_30 = confusion_matrix(y_test, y_pred_30)\n",
    "\n",
    "tn30, fp30, fn30, tp30 = confusion_matrix(y_test, y_pred_30).ravel()\n",
    "print(\"True Negatives : \",tn30)\n",
    "print(\"False Positives: \",fp30)\n",
    "print(\"False Negatives: \",fn30)\n",
    "print(\"True Positives : \",tp30,'\\n')\n",
    "\n",
    "print(\"kNN confusion matrix: \\n\\n\", knn_confusion_matrix_30, '\\n')\n",
    "\n",
    "print('Total sum of kNN =',np.sum(knn_confusion_matrix_30),'out of',n_defaults)\n",
    "\n",
    "plt.figure(dpi=100)\n",
    "sns.heatmap(knn_confusion_matrix_30, cmap=plt.cm.Blues, annot=True, square=True,\n",
    "           xticklabels=[0,1],\n",
    "           yticklabels=[0,1],fmt='g')\n",
    "\n",
    "plt.xlabel('Predicted Defaults')\n",
    "plt.ylabel('Actual Defaults')\n",
    "plt.title('kNN confusion matrix, credit card default, 30 Neighbours');\n",
    "plt.savefig('kNN_confusion_matrix_k30.svg')"
   ]
  },
  {
   "cell_type": "code",
   "execution_count": null,
   "metadata": {
    "ExecuteTime": {
     "end_time": "2019-10-25T02:50:52.686319Z",
     "start_time": "2019-10-25T02:50:49.101965Z"
    }
   },
   "outputs": [],
   "source": [
    "# Get AUC values for curve\n",
    "y_scores_30 = knn30.predict_proba(X_test)\n",
    "\n",
    "fpr30, tpr30, threshold30 = roc_curve(y_test, y_scores_30[:, 1])\n",
    "\n",
    "roc_auc30 = auc(fpr30, tpr30)\n",
    "\n",
    "f1_knn30 = f1_score(y_test,y_pred_30)\n",
    "print(f1_knn30)"
   ]
  },
  {
   "cell_type": "code",
   "execution_count": null,
   "metadata": {
    "ExecuteTime": {
     "end_time": "2019-10-25T02:50:52.884456Z",
     "start_time": "2019-10-25T02:50:52.689568Z"
    }
   },
   "outputs": [],
   "source": [
    "plt.figure(figsize=(6,6));\n",
    "plt.title('Receiver Operating Characteristic');\n",
    "plt.plot(fpr30, tpr30, 'b', label = 'AUC = %0.2f' % roc_auc30,lw=3);\n",
    "plt.legend(loc = 'lower right');\n",
    "plt.plot([0, 1], [0, 1],'r--',lw=3);\n",
    "plt.xlim([0, 1]);\n",
    "plt.ylim([0, 1]);\n",
    "plt.ylabel('True Positive Rate');\n",
    "plt.xlabel('False Positive Rate');\n",
    "plt.title('ROC Curve of kNN, k=30');\n",
    "plt.grid();\n",
    "plt.savefig('roc_curve_knn30.svg');\n",
    "#plt.show();"
   ]
  },
  {
   "cell_type": "code",
   "execution_count": null,
   "metadata": {
    "ExecuteTime": {
     "end_time": "2019-10-28T23:15:57.857412Z",
     "start_time": "2019-10-28T23:15:57.683967Z"
    }
   },
   "outputs": [],
   "source": [
    "# ROC curve\n",
    "prc_curve, rec_curve, thr_curve = precision_recall_curve(y_test, y_scores_30[:,1])\n",
    "\n",
    "plt.figure(figsize=(6,6));\n",
    "plt.plot(thr_curve, prc_curve[1:], label='precision', lw = 3)\n",
    "plt.plot(thr_curve, rec_curve[1:], label='recall', lw = 3)\n",
    "plt.legend(loc='lower left')\n",
    "plt.xlabel('Threshold (above this probability, label as Default)');\n",
    "plt.title('Precision and Recall Curves');\n",
    "plt.grid();\n"
   ]
  },
  {
   "cell_type": "code",
   "execution_count": null,
   "metadata": {
    "ExecuteTime": {
     "end_time": "2019-10-28T23:15:47.171788Z",
     "start_time": "2019-10-28T23:15:47.005531Z"
    }
   },
   "outputs": [],
   "source": [
    "plt.figure(figsize=(6,6));\n",
    "plt.plot(rec_curve[1:], prc_curve[1:],label='precision',lw=3)\n",
    "plt.xlabel(\"Recall\")\n",
    "plt.ylabel(\"Precision\")\n",
    "plt.title(\"Precision-Recall Curve\");\n",
    "plt.grid();"
   ]
  },
  {
   "cell_type": "code",
   "execution_count": null,
   "metadata": {
    "ExecuteTime": {
     "end_time": "2019-10-25T02:50:53.244563Z",
     "start_time": "2019-10-25T02:50:53.237615Z"
    }
   },
   "outputs": [],
   "source": [
    "print(\"Default threshold: 0.5\")\n",
    "print(\"Precision: {:6.4f},   Recall: {:6.4f}\".format(precision_score(y_test, y_pred_30), \n",
    "                                                     recall_score(y_test, y_pred_30)),'\\n')\n",
    "\n",
    "\n",
    "# With the plots above I want more Recall because I am getting too many False Negatives\n",
    "#y_scores_30_threshold_gt0p2 = (y_scores_30[:,1] > 0.2)\n",
    "\n",
    "#print(\"Threshold set to: 0.2\")\n",
    "#print(\"Precision: {:6.4f},   Recall: {:6.4f}\".format(precision_score(y_test, y_scores_30_threshold_gt0p2), \n",
    "#                                                     recall_score(y_test, y_scores_30_threshold_gt0p2)))\n",
    "\n"
   ]
  },
  {
   "cell_type": "code",
   "execution_count": null,
   "metadata": {
    "ExecuteTime": {
     "end_time": "2019-10-25T20:13:09.964843Z",
     "start_time": "2019-10-25T20:13:04.266607Z"
    }
   },
   "outputs": [],
   "source": [
    "y_scores_30_threshold_ft0p2 = knn30.predict_proba(X_test)[:, 1] > 0.5\n",
    "\n",
    "#fpr30n, tpr30n, threshold30n = roc_curve(y_test, y_scores_30_threshold_ft0p2[:, 1])\n",
    "\n",
    "#roc_auc30n = auc(fpr30n, tpr30n)\n",
    "\n",
    "\n",
    "# Print the confusion matrix\n",
    "knn_confusion_matrix_30n = confusion_matrix(y_test, y_scores_30_threshold_ft0p2)\n",
    "\n",
    "#tn30, fp30, fn30, tp30 = confusion_matrix(y_test, y_pred_30).ravel()\n",
    "#print(\"True Negatives : \",tn30)\n",
    "#print(\"False Positives: \",fp30)\n",
    "#print(\"False Negatives: \",fn30)\n",
    "#print(\"True Positives : \",tp30,'\\n')\n",
    "\n",
    "f1_knn30n = f1_score(y_test,y_scores_30_threshold_ft0p2)\n",
    "print(f1_knn30n)\n",
    "\n",
    "print(\"kNN confusion matrix: \\n\\n\", knn_confusion_matrix_30n, '\\n')\n",
    "\n",
    "#print('Total sum of kNN =',np.sum(knn_confusion_matrix_30),'out of',n_defaults)\n",
    "\n",
    "plt.figure(dpi=100)\n",
    "sns.heatmap(knn_confusion_matrix_30n, cmap=plt.cm.Blues, annot=True, square=True,\n",
    "            xticklabels=[0,1],\n",
    "            yticklabels=[0,1],fmt='g');\n",
    "\n",
    "plt.xlabel('Predicted Defaults');\n",
    "plt.ylabel('Actual Defaults');"
   ]
  },
  {
   "cell_type": "markdown",
   "metadata": {},
   "source": [
    "#### Logistic Regression"
   ]
  },
  {
   "cell_type": "code",
   "execution_count": null,
   "metadata": {
    "ExecuteTime": {
     "end_time": "2019-10-25T04:26:32.723924Z",
     "start_time": "2019-10-25T04:26:32.651598Z"
    }
   },
   "outputs": [],
   "source": [
    "# Logistic Regression test\n",
    "# Default value for C is 1\n",
    "logres1 = LogisticRegression(C = 1,solver='lbfgs')\n",
    "\n",
    "logres1.fit(X_train, y_train)\n",
    "\n",
    "print(\"Logistic score, Train set: {:6.2f}%\".format(100*logres1.score(X_train,y_train)))\n",
    "print(\"Logistic score, Test set : {:6.2f}%\".format(100*logres1.score(X_test, y_test)))"
   ]
  },
  {
   "cell_type": "code",
   "execution_count": 41,
   "metadata": {
    "ExecuteTime": {
     "end_time": "2019-10-30T05:00:02.737409Z",
     "start_time": "2019-10-30T05:00:02.733650Z"
    }
   },
   "outputs": [],
   "source": [
    "# Print the confusion matrix\n",
    "# Make a prediction first on a default\n",
    "def get_confusion_matrix(y_te,y_pr,n_def):\n",
    "\n",
    "    model_confusion_matrix = confusion_matrix(y_te, y_pr);\n",
    "\n",
    "    tn, fp, fn, tp = confusion_matrix(y_te, y_pr).ravel()\n",
    "\n",
    "    print(\"True Negatives : \",tn)\n",
    "    print(\"False Positives: \",fp)\n",
    "    print(\"False Negatives: \",fn)\n",
    "    print(\"True Positives : \",tp,'\\n')\n",
    "\n",
    "    print(\"Confusion matrix: \\n\\n\", model_confusion_matrix, '\\n')\n",
    "\n",
    "    #print('Sum of Classifier =',np.sum(model_confusion_matrix),'out of',n_def)\n",
    "    \n",
    "    return (tn,fp,fn,tp,model_confusion_matrix)"
   ]
  },
  {
   "cell_type": "code",
   "execution_count": 42,
   "metadata": {
    "ExecuteTime": {
     "end_time": "2019-10-30T05:00:05.210952Z",
     "start_time": "2019-10-30T05:00:05.207335Z"
    }
   },
   "outputs": [],
   "source": [
    "# Print the confusion matrix\n",
    "# Make a prediction first on a default\n",
    "def get_confusion_matrix_no_print(y_te,y_pr):\n",
    "\n",
    "    model_confusion_matrix = confusion_matrix(y_te, y_pr);\n",
    "\n",
    "    tn, fp, fn, tp = confusion_matrix(y_te, y_pr).ravel()\n",
    "\n",
    "    #print(\"True Negatives : \",tn)\n",
    "    #print(\"False Positives: \",fp)\n",
    "    #print(\"False Negatives: \",fn)\n",
    "    #print(\"True Positives : \",tp,'\\n')\n",
    "\n",
    "    #print(\"Confusion matrix: \\n\\n\", model_confusion_matrix, '\\n')\n",
    "\n",
    "    #print('Sum of Classifier =',np.sum(model_confusion_matrix),'out of',n_def)\n",
    "    \n",
    "    return (tn,fp,fn,tp,model_confusion_matrix)"
   ]
  },
  {
   "cell_type": "code",
   "execution_count": null,
   "metadata": {
    "ExecuteTime": {
     "end_time": "2019-10-25T04:26:37.170987Z",
     "start_time": "2019-10-25T04:26:36.989120Z"
    }
   },
   "outputs": [],
   "source": [
    "y_pred_logres1 = logres1.predict(X_test)\n",
    "\n",
    "tn,fp,fn,tp,logres1_confusion_matrix = get_confusion_matrix(y_test,y_pred_logres1,n_defaults)\n",
    "\n",
    "plt.figure(dpi=100)\n",
    "sns.heatmap(logres1_confusion_matrix, cmap=plt.cm.Blues, annot=True, square=True,\n",
    "           xticklabels=[0,1],\n",
    "           yticklabels=[0,1],fmt='g')\n",
    "\n",
    "plt.xlabel('Predicted Defaults')\n",
    "plt.ylabel('Actual Defaults')\n",
    "plt.title('Logistic Regressions confusion matrix, credit card default, C=1');\n",
    "plt.savefig('confusion_matrix_logres1.svg')"
   ]
  },
  {
   "cell_type": "code",
   "execution_count": null,
   "metadata": {
    "ExecuteTime": {
     "end_time": "2019-10-25T04:26:43.587242Z",
     "start_time": "2019-10-25T04:26:43.581235Z"
    }
   },
   "outputs": [],
   "source": [
    "# How about ROC curve\n",
    "y_scores_logres1 = logres1.predict_proba(X_test)\n",
    "fpr_logres1, tpr_logres1, threshold_logres1 = roc_curve(y_test, y_scores_logres1[:, 1])\n",
    "\n",
    "roc_auc_logres1 = auc(fpr_logres1, tpr_logres1)\n",
    "#print(threshold20)"
   ]
  },
  {
   "cell_type": "code",
   "execution_count": null,
   "metadata": {
    "ExecuteTime": {
     "end_time": "2019-10-25T04:26:43.960785Z",
     "start_time": "2019-10-25T04:26:43.747196Z"
    }
   },
   "outputs": [],
   "source": [
    "plt.figure(figsize=(6,6));\n",
    "plt.title('Receiver Operating Characteristic');\n",
    "plt.plot(fpr_logres1, tpr_logres1, 'b', label = 'AUC = %0.2f' % roc_auc_logres1,lw=3);\n",
    "plt.legend(loc = 'lower right');\n",
    "plt.plot([0, 1], [0, 1],'r--',lw=3);\n",
    "plt.xlim([0, 1]);\n",
    "plt.ylim([0, 1]);\n",
    "plt.ylabel('True Positive Rate');\n",
    "plt.xlabel('False Positive Rate');\n",
    "plt.title('ROC Curve of Logistic Regression, C=1');\n",
    "plt.grid();\n",
    "plt.savefig('roc_curve_logres1.svg');\n",
    "#plt.show();"
   ]
  },
  {
   "cell_type": "code",
   "execution_count": null,
   "metadata": {
    "ExecuteTime": {
     "end_time": "2019-10-25T04:27:16.689769Z",
     "start_time": "2019-10-25T04:26:43.962650Z"
    }
   },
   "outputs": [],
   "source": [
    "# See if we can find an optimum value of C\n",
    "# Cross Validation Loop\n",
    "C_range = []\n",
    "for k in np.linspace(-5,0,101):\n",
    "    C_range.append(10**(k))\n",
    "    \n",
    "#C_range = np.linspace(0.0)\n",
    "C_scores = []\n",
    "\n",
    "for i in C_range:\n",
    "    logres = LogisticRegression(C = i,solver='lbfgs')\n",
    "    scores = cross_val_score(logres, X_train, y_train, cv=cv_value, scoring='roc_auc')\n",
    "    #print('auc_score')\n",
    "    C_scores.append(scores.mean())\n",
    "    \n",
    "#print()"
   ]
  },
  {
   "cell_type": "code",
   "execution_count": null,
   "metadata": {
    "ExecuteTime": {
     "end_time": "2019-10-25T04:27:16.862963Z",
     "start_time": "2019-10-25T04:27:16.691996Z"
    }
   },
   "outputs": [],
   "source": [
    "plt.figure(figsize=(13,7));\n",
    "plt.plot(C_range, C_scores, lw=2.5);\n",
    "plt.xlabel('Value of C in Logistic Regression');\n",
    "plt.ylabel('Cross-Validated ROC AUC');\n",
    "plt.title('Cross-Validation ROC AUC, LogRes')\n",
    "plt.grid();"
   ]
  },
  {
   "cell_type": "code",
   "execution_count": null,
   "metadata": {
    "ExecuteTime": {
     "end_time": "2019-10-25T04:27:17.410888Z",
     "start_time": "2019-10-25T04:27:16.864949Z"
    }
   },
   "outputs": [],
   "source": [
    "# Use Logistic Regression with Cross Validation\n",
    "logregcv = LogisticRegressionCV(Cs=[1], cv=cv_value, random_state=random_seed)\n",
    "\n",
    "logregcv.fit(X_train,y_train);\n",
    "\n",
    "# How about ROC curve\n",
    "y_scores_logregcv = logregcv.predict_proba(X_test)\n",
    "\n",
    "fpr_logregcv, tpr_logregcv, threshold_logregcv = roc_curve(y_test, y_scores_logregcv[:, 1])\n",
    "\n",
    "roc_auc_logregcv = auc(fpr_logregcv, tpr_logregcv)\n",
    "\n",
    "print(roc_auc_logregcv)"
   ]
  },
  {
   "cell_type": "code",
   "execution_count": null,
   "metadata": {},
   "outputs": [],
   "source": []
  },
  {
   "cell_type": "markdown",
   "metadata": {},
   "source": [
    "So it looks like C = 1 is the optimum value for Logistic Regression which is not as great\n",
    "compared to K-Nearest Neighbours"
   ]
  },
  {
   "cell_type": "markdown",
   "metadata": {},
   "source": [
    "#### Naive Bayes"
   ]
  },
  {
   "cell_type": "code",
   "execution_count": null,
   "metadata": {
    "ExecuteTime": {
     "end_time": "2019-10-25T04:27:39.846676Z",
     "start_time": "2019-10-25T04:27:39.686188Z"
    }
   },
   "outputs": [],
   "source": [
    "# There are three types. Gaussian, Binomial and Multinomial\n",
    "gnb = GaussianNB()\n",
    "bnb = BernoulliNB()\n",
    "#mnb = MultinomialNB()   <--- This did not work...complained about negative number\n",
    "\n",
    "scores_gnb = cross_val_score(gnb, X_train, y_train, cv=cv_value, scoring='roc_auc')\n",
    "scores_gnb.mean()\n",
    "\n",
    "#print(scores_gnb.mean())\n",
    "\n",
    "gnb.fit(X_train, y_train);\n",
    "bnb.fit(X_train, y_train);\n",
    "#mnb.fit(X_train, y_train);\n",
    "\n",
    "y_pred_gnb = gnb.predict(X_test);\n",
    "y_pred_bnb = bnb.predict(X_test);\n",
    "#y_pred_mnb = mnb.predict(X_test);"
   ]
  },
  {
   "cell_type": "code",
   "execution_count": null,
   "metadata": {
    "ExecuteTime": {
     "end_time": "2019-10-25T04:27:40.264404Z",
     "start_time": "2019-10-25T04:27:40.251475Z"
    }
   },
   "outputs": [],
   "source": [
    "# ROC curve\n",
    "y_scores_gnb = gnb.predict_proba(X_test)\n",
    "y_scores_bnb = bnb.predict_proba(X_test)\n",
    "\n",
    "fpr_gnb, tpr_gnb, threshold_gnb = roc_curve(y_test, y_scores_gnb[:, 1])\n",
    "fpr_bnb, tpr_bnb, threshold_bnb = roc_curve(y_test, y_scores_bnb[:, 1])\n",
    "\n",
    "roc_auc_gnb = auc(fpr_gnb, tpr_gnb)\n",
    "roc_auc_bnb = auc(fpr_bnb, tpr_bnb)\n"
   ]
  },
  {
   "cell_type": "code",
   "execution_count": null,
   "metadata": {
    "ExecuteTime": {
     "end_time": "2019-10-25T04:27:41.099309Z",
     "start_time": "2019-10-25T04:27:40.901681Z"
    }
   },
   "outputs": [],
   "source": [
    "plt.figure(figsize=(6,6));\n",
    "plt.title('Receiver Operating Characteristic');\n",
    "plt.plot(fpr_gnb, tpr_gnb, 'b', label = 'AUC = %0.2f' % roc_auc_gnb,lw=3);\n",
    "plt.legend(loc = 'lower right');\n",
    "plt.plot([0, 1], [0, 1],'r--',lw=3);\n",
    "plt.xlim([0, 1]);\n",
    "plt.ylim([0, 1]);\n",
    "plt.ylabel('True Positive Rate');\n",
    "plt.xlabel('False Positive Rate');\n",
    "plt.title('ROC Curve of Naive Bayes Gaussian');\n",
    "plt.grid();\n",
    "plt.savefig('roc_curve_gnb.svg');\n",
    "#plt.show();"
   ]
  },
  {
   "cell_type": "markdown",
   "metadata": {},
   "source": [
    "#### Support Vector Machines (SVM)"
   ]
  },
  {
   "cell_type": "code",
   "execution_count": null,
   "metadata": {
    "ExecuteTime": {
     "end_time": "2019-10-25T04:30:38.642386Z",
     "start_time": "2019-10-25T04:27:46.076036Z"
    }
   },
   "outputs": [],
   "source": [
    "# Start with the standard Linear SVM\n",
    "svc1 = svm.SVC(kernel='linear',probability=True);\n",
    "svc1.fit(X_train,y_train);\n",
    "\n",
    "print(\"SVC-Linear score, Train set: {:6.2f}%\".format(100*svc1.score(X_train,y_train)))\n",
    "print(\"SVC-Linear score, Test set : {:6.2f}%\".format(100*svc1.score(X_test, y_test)))"
   ]
  },
  {
   "cell_type": "code",
   "execution_count": null,
   "metadata": {
    "ExecuteTime": {
     "end_time": "2019-10-25T04:32:24.407694Z",
     "start_time": "2019-10-25T04:30:38.645019Z"
    }
   },
   "outputs": [],
   "source": [
    "svc2 = svm.SVC(kernel='poly',probability=True);\n",
    "svc2.fit(X_train,y_train);\n",
    "\n",
    "print(\"SVC-Poly score, Train set: {:6.2f}%\".format(100*svc2.score(X_train,y_train)))\n",
    "print(\"SVC-Poly score, Test set : {:6.2f}%\".format(100*svc2.score(X_test, y_test)))"
   ]
  },
  {
   "cell_type": "code",
   "execution_count": null,
   "metadata": {
    "ExecuteTime": {
     "end_time": "2019-10-25T04:33:51.593441Z",
     "start_time": "2019-10-25T04:32:24.410114Z"
    }
   },
   "outputs": [],
   "source": [
    "svc3 = svm.SVC(kernel='rbf',probability=True, C = 1);\n",
    "svc3.fit(X_train,y_train);\n",
    "\n",
    "print(\"SVC-RBF score, Train set: {:6.2f}%\".format(100*svc3.score(X_train,y_train)))\n",
    "print(\"SVC-RBF score, Test set : {:6.2f}%\".format(100*svc3.score(X_test, y_test)))"
   ]
  },
  {
   "cell_type": "code",
   "execution_count": null,
   "metadata": {
    "ExecuteTime": {
     "end_time": "2019-10-25T04:33:55.009633Z",
     "start_time": "2019-10-25T04:33:51.595275Z"
    }
   },
   "outputs": [],
   "source": [
    "# ROC curve\n",
    "y_scores_svc1 = svc1.predict_proba(X_test)\n",
    "y_scores_svc2 = svc2.predict_proba(X_test)\n",
    "y_scores_svc3 = svc3.predict_proba(X_test)\n",
    "\n",
    "fpr_svc1, tpr_svc1, threshold_svc1 = roc_curve(y_test, y_scores_svc1[:, 1])\n",
    "fpr_svc2, tpr_svc2, threshold_svc2 = roc_curve(y_test, y_scores_svc2[:, 1])\n",
    "fpr_svc3, tpr_svc3, threshold_svc3 = roc_curve(y_test, y_scores_svc3[:, 1])\n",
    "\n",
    "roc_auc_svc1 = auc(fpr_svc1, tpr_svc1)\n",
    "roc_auc_svc2 = auc(fpr_svc2, tpr_svc2)\n",
    "roc_auc_svc3 = auc(fpr_svc3, tpr_svc3)\n",
    "\n",
    "print('AUC SVC-Linear Default    :',roc_auc_svc1)\n",
    "print('AUC SVC-Polynomial Default:',roc_auc_svc2)\n",
    "print('AUC SVC-RBF Default       :',roc_auc_svc3)"
   ]
  },
  {
   "cell_type": "code",
   "execution_count": null,
   "metadata": {
    "ExecuteTime": {
     "end_time": "2019-10-25T04:33:56.661802Z",
     "start_time": "2019-10-25T04:33:55.011390Z"
    }
   },
   "outputs": [],
   "source": [
    "y_pred_svc3 = svc3.predict(X_test)\n",
    "\n",
    "tn_svc3,fp_svc3,fn_svc3,tp_svc3,svc3_confusion_matrix = get_confusion_matrix(y_test,y_pred_svc3,n_defaults)\n",
    "\n",
    "plt.figure(dpi=100)\n",
    "sns.heatmap(svc3_confusion_matrix, cmap=plt.cm.Blues, annot=True, square=True,\n",
    "           xticklabels=[0,1],\n",
    "           yticklabels=[0,1],fmt='g')\n",
    "\n",
    "plt.xlabel('Predicted Defaults')\n",
    "plt.ylabel('Actual Defaults')\n",
    "plt.title('SVC-RBF confusion matrix, credit card default, C = 1');\n",
    "plt.savefig('confusion_matrix_svc3.svg')"
   ]
  },
  {
   "cell_type": "code",
   "execution_count": null,
   "metadata": {
    "ExecuteTime": {
     "start_time": "2019-10-22T20:01:35.671Z"
    }
   },
   "outputs": [],
   "source": [
    "# Cross Validation Loop\n",
    "#svcl_range = [0.1,1,10,100,1000]\n",
    "#svcl_range = [0.1,10,100]\n",
    "#svcl_range = [10]\n",
    "\n",
    "#for k in np.arange(1,,2):\n",
    "#    svcl_range.append(10**(k))\n",
    "\n",
    "#svcl_scores = []\n",
    "\n",
    "#print(svcl_range)\n",
    "\n",
    "#for k in svcl_range:\n",
    "#    svcl = svm.SVC(kernel='linear',C = k);\n",
    "#    scores = cross_val_score(svcl, X_train, y_train, cv=cv_value, scoring='roc_auc')\n",
    "#    #print('auc_score')\n",
    "#    svcl_scores.append(scores.mean())\n",
    "#    print('C =',k,' Done!')\n",
    "#    print('Scores =',scores)\n",
    "    \n",
    "#print(svcl_scores)\n",
    "# C = 0.1, score = 0.7006495007799197\n",
    "# C = 1,   score = 0.6962224119783551\n",
    "# C = 10,  score = \n",
    "# C = 100, score ="
   ]
  },
  {
   "cell_type": "markdown",
   "metadata": {},
   "source": [
    "#### Random Forest"
   ]
  },
  {
   "cell_type": "code",
   "execution_count": null,
   "metadata": {
    "ExecuteTime": {
     "end_time": "2019-10-22T23:06:04.516654Z",
     "start_time": "2019-10-22T23:03:46.421792Z"
    }
   },
   "outputs": [],
   "source": [
    "# See if we can find an optimum value of C\n",
    "# Cross Validation Loop\n",
    "s_estimators = 50;\n",
    "e_estimators = 400;\n",
    "n_incr = 50\n",
    "\n",
    "N_range = np.arange(s_estimators,e_estimators+1,n_incr)\n",
    "\n",
    "print(N_range)\n",
    "    \n",
    "#C_range = np.linspace(0.0)\n",
    "RF_scores = []\n",
    "\n",
    "for i in N_range:\n",
    "    RFC = RandomForestClassifier(n_estimators=i,n_jobs=-1,random_state=random_seed)\n",
    "    scores = cross_val_score(RFC, X_train_raw, y_train, cv=cv_value, scoring='roc_auc')\n",
    "    #print('auc_score')\n",
    "    RF_scores.append(scores.mean())\n",
    "    \n",
    "print(RF_scores)"
   ]
  },
  {
   "cell_type": "code",
   "execution_count": null,
   "metadata": {
    "ExecuteTime": {
     "end_time": "2019-10-22T23:06:04.698037Z",
     "start_time": "2019-10-22T23:06:04.519036Z"
    }
   },
   "outputs": [],
   "source": [
    "plt.figure(figsize=(13,7));\n",
    "plt.plot(N_range, RF_scores, lw=2.5);\n",
    "plt.xlabel('AUC vs Number of Estimators, Random Forest');\n",
    "plt.ylabel('Cross-Validated ROC AUC');\n",
    "plt.title('Cross-Validation ROC AUC, Random Forest')\n",
    "plt.grid();"
   ]
  },
  {
   "cell_type": "code",
   "execution_count": null,
   "metadata": {
    "ExecuteTime": {
     "end_time": "2019-10-25T04:35:38.441620Z",
     "start_time": "2019-10-25T04:35:35.942936Z"
    }
   },
   "outputs": [],
   "source": [
    "n_forest_estimators = 400\n",
    "\n",
    "randomforest = RandomForestClassifier(n_estimators=n_forest_estimators,n_jobs=-1,random_state=random_seed,max_features='auto')\n",
    "\n",
    "randomforest.fit(X_train_raw, y_train);\n",
    "\n",
    "print(\"Random Forest score, Train set: {:6.2f}%\".format(100*randomforest.score(X_train,y_train)))\n",
    "print(\"Random Forest score, Test set : {:6.2f}%\".format(100*randomforest.score(X_test, y_test)))\n",
    "\n",
    "y_pred_rf   = randomforest.predict(X_test_raw)\n",
    "y_scores_rf = randomforest.predict_proba(X_test_raw)"
   ]
  },
  {
   "cell_type": "code",
   "execution_count": null,
   "metadata": {
    "ExecuteTime": {
     "end_time": "2019-10-25T04:35:38.447889Z",
     "start_time": "2019-10-25T04:35:38.443764Z"
    }
   },
   "outputs": [],
   "source": [
    "fpr_rf, tpr_rf, threshold_rf = roc_curve(y_test, y_scores_rf[:, 1])\n",
    "\n",
    "roc_auc_rf = auc(fpr_rf, tpr_rf)"
   ]
  },
  {
   "cell_type": "code",
   "execution_count": null,
   "metadata": {
    "ExecuteTime": {
     "end_time": "2019-10-25T04:35:41.021702Z",
     "start_time": "2019-10-25T04:35:40.828726Z"
    }
   },
   "outputs": [],
   "source": [
    "plt.figure(figsize=(6,6));\n",
    "plt.title('Receiver Operating Characteristic');\n",
    "plt.plot(fpr_rf, tpr_rf, 'b', label = 'AUC = %0.2f' % roc_auc_rf,lw=3);\n",
    "plt.legend(loc = 'lower right');\n",
    "plt.plot([0, 1], [0, 1],'r--',lw=3);\n",
    "plt.xlim([0, 1]);\n",
    "plt.ylim([0, 1]);\n",
    "plt.ylabel('True Positive Rate');\n",
    "plt.xlabel('False Positive Rate');\n",
    "plt.title('ROC Curve of Random Forest, n=400');\n",
    "plt.grid();\n",
    "plt.savefig('roc_curve_rf400.svg');\n",
    "#plt.show();"
   ]
  },
  {
   "cell_type": "code",
   "execution_count": null,
   "metadata": {
    "ExecuteTime": {
     "end_time": "2019-10-25T04:35:42.104950Z",
     "start_time": "2019-10-25T04:35:41.930870Z"
    }
   },
   "outputs": [],
   "source": [
    "tn_rf,fp_rf,fn_rf,tp_rf,rf_confusion_matrix = get_confusion_matrix(y_test,y_pred_rf,n_defaults)\n",
    "\n",
    "plt.figure(dpi=100)\n",
    "sns.heatmap(rf_confusion_matrix, cmap=plt.cm.Blues, annot=True, square=True,\n",
    "           xticklabels=[0,1],\n",
    "           yticklabels=[0,1],fmt='g')\n",
    "\n",
    "plt.xlabel('Predicted Defaults')\n",
    "plt.ylabel('Actual Defaults')\n",
    "plt.title('Random Forest confusion matrix, credit card default, n=400');\n",
    "plt.savefig('confusion_matrix_rf400.svg')"
   ]
  },
  {
   "cell_type": "markdown",
   "metadata": {},
   "source": [
    "#### Extra Random Trees"
   ]
  },
  {
   "cell_type": "code",
   "execution_count": null,
   "metadata": {
    "ExecuteTime": {
     "end_time": "2019-10-25T04:36:03.503415Z",
     "start_time": "2019-10-25T04:36:01.416016Z"
    }
   },
   "outputs": [],
   "source": [
    "# Start with the standard Linear SVM\n",
    "etc1 = ExtraTreesClassifier(n_estimators=400,n_jobs=-1,random_state=random_seed,criterion ='entropy')\n",
    "#ada_model = ensemble.AdaBoostClassifier()\n",
    "etc1.fit(X_train_raw,y_train);\n",
    "\n",
    "print(\"Extra Trees score, Train set: {:6.2f}%\".format(100*etc1.score(X_train_raw,y_train)))\n",
    "print(\"Extra Trees score, Test set : {:6.2f}%\".format(100*etc1.score(X_test_raw, y_test)))\n",
    "\n",
    "y_pred_etc1 = etc1.predict(X_test_raw)\n",
    "\n",
    "y_scores_etc1 = etc1.predict_proba(X_test_raw)"
   ]
  },
  {
   "cell_type": "code",
   "execution_count": null,
   "metadata": {
    "ExecuteTime": {
     "end_time": "2019-10-25T04:36:03.509546Z",
     "start_time": "2019-10-25T04:36:03.505159Z"
    }
   },
   "outputs": [],
   "source": [
    "fpr_etc, tpr_etc, threshold_etc = roc_curve(y_test, y_scores_etc1[:, 1])\n",
    "\n",
    "roc_auc_etc = auc(fpr_etc, tpr_etc)\n",
    "\n",
    "print(roc_auc_etc)"
   ]
  },
  {
   "cell_type": "code",
   "execution_count": null,
   "metadata": {
    "ExecuteTime": {
     "end_time": "2019-10-25T04:36:03.712892Z",
     "start_time": "2019-10-25T04:36:03.511640Z"
    }
   },
   "outputs": [],
   "source": [
    "plt.figure(figsize=(6,6));\n",
    "plt.title('Receiver Operating Characteristic');\n",
    "plt.plot(fpr_etc, tpr_etc, 'b', label = 'AUC = %0.2f' % roc_auc_etc,lw=3);\n",
    "plt.legend(loc = 'lower right');\n",
    "plt.plot([0, 1], [0, 1],'r--',lw=3);\n",
    "plt.xlim([0, 1]);\n",
    "plt.ylim([0, 1]);\n",
    "plt.ylabel('True Positive Rate');\n",
    "plt.xlabel('False Positive Rate');\n",
    "plt.title('ROC Curve of Extra Trees, n=300');\n",
    "plt.grid();\n",
    "plt.savefig('roc_curve_etc300.svg');\n",
    "#plt.show();"
   ]
  },
  {
   "cell_type": "code",
   "execution_count": null,
   "metadata": {
    "ExecuteTime": {
     "end_time": "2019-10-25T04:36:03.891967Z",
     "start_time": "2019-10-25T04:36:03.714698Z"
    }
   },
   "outputs": [],
   "source": [
    "tn_etc,fp_etc,fn_etc,tp_etc,etc_confusion_matrix = get_confusion_matrix(y_test,y_pred_etc1,n_defaults)\n",
    "\n",
    "plt.figure(dpi=100)\n",
    "sns.heatmap(etc_confusion_matrix, cmap=plt.cm.Blues, annot=True, square=True,\n",
    "           xticklabels=[0,1],\n",
    "           yticklabels=[0,1],fmt='g')\n",
    "\n",
    "plt.xlabel('Predicted Defaults')\n",
    "plt.ylabel('Actual Defaults')\n",
    "plt.title('Extra Trees confusion matrix, credit card default, n=300');\n",
    "plt.savefig('confusion_matrix_etc300.svg')"
   ]
  },
  {
   "cell_type": "markdown",
   "metadata": {},
   "source": [
    "#### ADABoost Classifier (Adaptive Boosting) with Random Forest"
   ]
  },
  {
   "cell_type": "code",
   "execution_count": null,
   "metadata": {
    "ExecuteTime": {
     "end_time": "2019-10-25T04:40:04.526127Z",
     "start_time": "2019-10-25T04:36:17.932194Z"
    }
   },
   "outputs": [],
   "source": [
    "# Create adaboost classifer object\n",
    "# Boost default is a Decision Tree\n",
    "#svc_basis = SVC(probability=True, kernel='rbf')\n",
    "basis = RandomForestClassifier(n_estimators=400,n_jobs=-1)\n",
    "#basis = LogisticRegression(C = 1,solver='lbfgs')\n",
    "#abc = AdaBoostClassifier(n_estimators=400)\n",
    "\n",
    "abc = AdaBoostClassifier(learning_rate=1,random_state=random_seed,base_estimator=basis)\n",
    "\n",
    "# Train Adaboost Classifer\n",
    "abc.fit(X_train, y_train)\n",
    "\n",
    "print(\"ADA Boost score, Train set: {:6.2f}%\".format(100*abc.score(X_train,y_train)))\n",
    "print(\"ADA Boost score, Test set : {:6.2f}%\".format(100*abc.score(X_test, y_test)))"
   ]
  },
  {
   "cell_type": "code",
   "execution_count": null,
   "metadata": {
    "ExecuteTime": {
     "end_time": "2019-10-25T04:40:15.976882Z",
     "start_time": "2019-10-25T04:40:04.529075Z"
    }
   },
   "outputs": [],
   "source": [
    "#Predict the response for test dataset\n",
    "y_pred_abc = abc.predict(X_test)\n",
    "\n",
    "y_scores_abc = abc.predict_proba(X_test)"
   ]
  },
  {
   "cell_type": "code",
   "execution_count": null,
   "metadata": {
    "ExecuteTime": {
     "end_time": "2019-10-25T04:40:15.985898Z",
     "start_time": "2019-10-25T04:40:15.980472Z"
    }
   },
   "outputs": [],
   "source": [
    "fpr_abc, tpr_abc, threshold_abc = roc_curve(y_test, y_scores_abc[:, 1])\n",
    "\n",
    "roc_auc_abc = auc(fpr_abc, tpr_abc)\n",
    "\n",
    "print(roc_auc_abc)"
   ]
  },
  {
   "cell_type": "code",
   "execution_count": null,
   "metadata": {
    "ExecuteTime": {
     "end_time": "2019-10-25T04:40:16.174370Z",
     "start_time": "2019-10-25T04:40:15.988022Z"
    }
   },
   "outputs": [],
   "source": [
    "tn_abc,fp_abc,fn_abc,tp_abc,abc_confusion_matrix = get_confusion_matrix(y_test,y_pred_abc,n_defaults)\n",
    "\n",
    "plt.figure(dpi=100)\n",
    "sns.heatmap(abc_confusion_matrix, cmap=plt.cm.Blues, annot=True, square=True,\n",
    "           xticklabels=[0,1],\n",
    "           yticklabels=[0,1],fmt='g')\n",
    "\n",
    "plt.xlabel('Predicted Defaults')\n",
    "plt.ylabel('Actual Defaults')\n",
    "plt.title('ADA Boost confusion matrix, credit card default, n=400');\n",
    "plt.savefig('confusion_matrix_abc300.svg')"
   ]
  },
  {
   "cell_type": "markdown",
   "metadata": {},
   "source": [
    "#### CatBoost Classifier"
   ]
  },
  {
   "cell_type": "code",
   "execution_count": null,
   "metadata": {
    "ExecuteTime": {
     "end_time": "2019-10-25T04:40:30.303443Z",
     "start_time": "2019-10-25T04:40:16.176028Z"
    }
   },
   "outputs": [],
   "source": [
    "cat = CatBoostClassifier(iterations=1000,logging_level='Silent',learning_rate=0.01);\n",
    "cat.fit(X_train,y_train);"
   ]
  },
  {
   "cell_type": "code",
   "execution_count": null,
   "metadata": {
    "ExecuteTime": {
     "end_time": "2019-10-25T04:40:30.355533Z",
     "start_time": "2019-10-25T04:40:30.305372Z"
    }
   },
   "outputs": [],
   "source": [
    "print(\"CatBoost score, Train set: {:6.2f}%\".format(100*cat.score(X_train,y_train)))\n",
    "print(\"CatBoost score, Test set : {:6.2f}%\".format(100*cat.score(X_test, y_test)))"
   ]
  },
  {
   "cell_type": "code",
   "execution_count": null,
   "metadata": {
    "ExecuteTime": {
     "end_time": "2019-10-25T04:40:30.367894Z",
     "start_time": "2019-10-25T04:40:30.357423Z"
    }
   },
   "outputs": [],
   "source": [
    "#Predict the response for test dataset\n",
    "y_pred_cat   = cat.predict(X_test)\n",
    "\n",
    "y_scores_cat = cat.predict_proba(X_test)\n",
    "\n",
    "fpr_cat, tpr_cat, threshold_cat = roc_curve(y_test, y_scores_cat[:, 1])\n",
    "\n",
    "roc_auc_cat = auc(fpr_cat, tpr_cat)\n",
    "\n",
    "print(roc_auc_cat)"
   ]
  },
  {
   "cell_type": "code",
   "execution_count": null,
   "metadata": {
    "ExecuteTime": {
     "end_time": "2019-10-25T04:40:30.612827Z",
     "start_time": "2019-10-25T04:40:30.371647Z"
    }
   },
   "outputs": [],
   "source": [
    "tn_cat,fp_cat,fn_cat,tp_cat,cat_confusion_matrix = get_confusion_matrix(y_test,y_pred_cat,n_defaults)\n",
    "\n",
    "plt.figure(dpi=100)\n",
    "sns.heatmap(cat_confusion_matrix, cmap=plt.cm.Blues, annot=True, square=True,\n",
    "           xticklabels=[0,1],\n",
    "           yticklabels=[0,1],fmt='g')\n",
    "\n",
    "plt.xlabel('Predicted Defaults')\n",
    "plt.ylabel('Actual Defaults')\n",
    "plt.title('CatBoost confusion matrix, credit card default');\n",
    "plt.savefig('confusion_matrix_cat_it1000.svg')"
   ]
  },
  {
   "cell_type": "code",
   "execution_count": null,
   "metadata": {
    "ExecuteTime": {
     "end_time": "2019-10-25T04:40:30.836123Z",
     "start_time": "2019-10-25T04:40:30.615011Z"
    }
   },
   "outputs": [],
   "source": [
    "plt.figure(figsize=(6,6));\n",
    "plt.title('Receiver Operating Characteristic');\n",
    "plt.plot(fpr_cat, tpr_cat, 'b', label = 'AUC = %0.2f' % roc_auc_cat,lw=3);\n",
    "plt.legend(loc = 'lower right');\n",
    "plt.plot([0, 1], [0, 1],'r--',lw=3);\n",
    "plt.xlim([0, 1]);\n",
    "plt.ylim([0, 1]);\n",
    "plt.ylabel('True Positive Rate');\n",
    "plt.xlabel('False Positive Rate');\n",
    "plt.title('ROC Curve of CatBoost');\n",
    "plt.grid();\n",
    "plt.savefig('roc_curve_catboost.svg');\n",
    "#plt.show();"
   ]
  },
  {
   "cell_type": "code",
   "execution_count": null,
   "metadata": {},
   "outputs": [],
   "source": []
  },
  {
   "cell_type": "markdown",
   "metadata": {},
   "source": [
    "#### Gradient Boosting"
   ]
  },
  {
   "cell_type": "code",
   "execution_count": 37,
   "metadata": {
    "ExecuteTime": {
     "end_time": "2019-10-30T04:59:29.888121Z",
     "start_time": "2019-10-30T04:59:22.029133Z"
    }
   },
   "outputs": [
    {
     "data": {
      "text/plain": [
       "GradientBoostingClassifier(criterion='friedman_mse', init=None,\n",
       "                           learning_rate=0.1, loss='deviance', max_depth=3,\n",
       "                           max_features=None, max_leaf_nodes=None,\n",
       "                           min_impurity_decrease=0.0, min_impurity_split=None,\n",
       "                           min_samples_leaf=1, min_samples_split=2,\n",
       "                           min_weight_fraction_leaf=0.0, n_estimators=400,\n",
       "                           n_iter_no_change=None, presort='auto',\n",
       "                           random_state=None, subsample=1.0, tol=0.0001,\n",
       "                           validation_fraction=0.1, verbose=0,\n",
       "                           warm_start=False)"
      ]
     },
     "execution_count": 37,
     "metadata": {},
     "output_type": "execute_result"
    }
   ],
   "source": [
    "GB = GradientBoostingClassifier(n_estimators=400)\n",
    "\n",
    "GB.fit(X_train, y_train)\n",
    "\n",
    "#y_pred = clf.predict(X_test)\n",
    "#accuracy_score(y_test, y_pred)"
   ]
  },
  {
   "cell_type": "code",
   "execution_count": 38,
   "metadata": {
    "ExecuteTime": {
     "end_time": "2019-10-30T04:59:29.997358Z",
     "start_time": "2019-10-30T04:59:29.890997Z"
    }
   },
   "outputs": [
    {
     "name": "stdout",
     "output_type": "stream",
     "text": [
      "GradBoost score, Train set:  83.70%\n",
      "GradBoost score, Test set :  81.97%\n"
     ]
    }
   ],
   "source": [
    "print(\"GradBoost score, Train set: {:6.2f}%\".format(100*GB.score(X_train,y_train)))\n",
    "print(\"GradBoost score, Test set : {:6.2f}%\".format(100*GB.score(X_test, y_test)))\n",
    "\n",
    "#y_pred_GB = GB.predict(X_test)\n",
    "#accuracy_score(y_test, y_pred)"
   ]
  },
  {
   "cell_type": "code",
   "execution_count": 39,
   "metadata": {
    "ExecuteTime": {
     "end_time": "2019-10-30T04:59:30.046803Z",
     "start_time": "2019-10-30T04:59:29.999298Z"
    }
   },
   "outputs": [
    {
     "name": "stdout",
     "output_type": "stream",
     "text": [
      "0.7830022305704993\n"
     ]
    }
   ],
   "source": [
    "#Predict the response for test dataset\n",
    "y_pred_GB   = GB.predict(X_test)\n",
    "\n",
    "y_scores_GB = GB.predict_proba(X_test)\n",
    "\n",
    "fpr_GB, tpr_GB, threshold_GB = roc_curve(y_test, y_scores_GB[:, 1])\n",
    "\n",
    "roc_auc_GB = auc(fpr_GB, tpr_GB)\n",
    "\n",
    "print(roc_auc_GB)"
   ]
  },
  {
   "cell_type": "code",
   "execution_count": 43,
   "metadata": {
    "ExecuteTime": {
     "end_time": "2019-10-30T05:00:13.306815Z",
     "start_time": "2019-10-30T05:00:13.127079Z"
    }
   },
   "outputs": [
    {
     "name": "stdout",
     "output_type": "stream",
     "text": [
      "True Negatives :  4434\n",
      "False Positives:  253\n",
      "False Negatives:  829\n",
      "True Positives :  484 \n",
      "\n",
      "Confusion matrix: \n",
      "\n",
      " [[4434  253]\n",
      " [ 829  484]] \n",
      "\n"
     ]
    },
    {
     "data": {
      "image/png": "[encoded data removed]",
      "text/plain": [
       "<Figure size 600x400 with 2 Axes>"
      ]
     },
     "metadata": {
      "needs_background": "light"
     },
     "output_type": "display_data"
    }
   ],
   "source": [
    "tn_GB,fp_GB,fn_GB,tp_GB,GB_confusion_matrix = get_confusion_matrix(y_test,y_pred_GB,n_defaults)\n",
    "\n",
    "plt.rcParams.update({'font.size': 14})\n",
    "plt.figure(dpi=100)\n",
    "sns.heatmap(GB_confusion_matrix, cmap=plt.cm.Blues, annot=True, square=True,\n",
    "           xticklabels=[0,1],\n",
    "           yticklabels=[0,1],fmt='g')\n",
    "\n",
    "plt.xlabel('Predicted Defaults')\n",
    "plt.ylabel('Actual Defaults')\n",
    "plt.title('Gradient Boost confusion matrix, credit card default');\n",
    "plt.savefig('confusion_matrix_gb_n400.svg')"
   ]
  },
  {
   "cell_type": "code",
   "execution_count": 44,
   "metadata": {
    "ExecuteTime": {
     "end_time": "2019-10-30T05:00:15.841014Z",
     "start_time": "2019-10-30T05:00:15.782570Z"
    }
   },
   "outputs": [
    {
     "name": "stdout",
     "output_type": "stream",
     "text": [
      "True Negatives :  4072\n",
      "False Positives:  615\n",
      "False Negatives:  603\n",
      "True Positives :  710 \n",
      "\n",
      "Confusion matrix: \n",
      "\n",
      " [[4072  615]\n",
      " [ 603  710]] \n",
      "\n"
     ]
    }
   ],
   "source": [
    "y_scores_GB1_threshold_0p3 = GB.predict_proba(X_test)[:, 1] > 0.3\n",
    "\n",
    "#y_pred_GB1 = \n",
    "tn_GB1,fp_GB1,fn_GB1,tp_GB1,GB_confusion_matrix1 = get_confusion_matrix(y_test,y_scores_GB1_threshold_0p3,n_defaults)"
   ]
  },
  {
   "cell_type": "code",
   "execution_count": 45,
   "metadata": {
    "ExecuteTime": {
     "end_time": "2019-10-30T05:00:16.597211Z",
     "start_time": "2019-10-30T05:00:16.594891Z"
    }
   },
   "outputs": [],
   "source": [
    "#visualizer = DiscriminationThreshold(GB)\n",
    "\n",
    "#plt.figure(figsize=(8,6));\n",
    "#visualizer.fit(X_train, y_train)        # Fit the data to the visualizer\n",
    "                                        # Finalize and render the figure"
   ]
  },
  {
   "cell_type": "code",
   "execution_count": 46,
   "metadata": {
    "ExecuteTime": {
     "end_time": "2019-10-30T05:00:17.516897Z",
     "start_time": "2019-10-30T05:00:17.514964Z"
    }
   },
   "outputs": [],
   "source": [
    "#visualizer.show();"
   ]
  },
  {
   "cell_type": "code",
   "execution_count": 47,
   "metadata": {
    "ExecuteTime": {
     "end_time": "2019-10-30T05:00:17.968186Z",
     "start_time": "2019-10-30T05:00:17.963537Z"
    }
   },
   "outputs": [],
   "source": [
    "# I would like to get back the user ID\n",
    "FP = X_test[(y_test == 0) & (y_pred_GB == 1)];\n",
    "FN = X_test[(y_test == 1) & (y_pred_GB == 0)];\n",
    "      \n",
    "#print(FP);\n",
    "#print(FN.shape);\n",
    "#print(FP)\n",
    "#TT = X_test(y_pred_GB == 1)"
   ]
  },
  {
   "cell_type": "code",
   "execution_count": 48,
   "metadata": {
    "ExecuteTime": {
     "end_time": "2019-10-30T05:00:19.092775Z",
     "start_time": "2019-10-30T05:00:19.078300Z"
    }
   },
   "outputs": [
    {
     "data": {
      "text/html": [
       "<div>\n",
       "<style scoped>\n",
       "    .dataframe tbody tr th:only-of-type {\n",
       "        vertical-align: middle;\n",
       "    }\n",
       "\n",
       "    .dataframe tbody tr th {\n",
       "        vertical-align: top;\n",
       "    }\n",
       "\n",
       "    .dataframe thead th {\n",
       "        text-align: right;\n",
       "    }\n",
       "</style>\n",
       "<table border=\"1\" class=\"dataframe\">\n",
       "  <thead>\n",
       "    <tr style=\"text-align: right;\">\n",
       "      <th></th>\n",
       "      <th>ID</th>\n",
       "      <th>LIMIT_BAL</th>\n",
       "      <th>SEX</th>\n",
       "      <th>EDUCATION</th>\n",
       "      <th>MARRIAGE</th>\n",
       "      <th>AGE</th>\n",
       "      <th>PAY_1</th>\n",
       "      <th>PAY_2</th>\n",
       "      <th>PAY_3</th>\n",
       "      <th>PAY_4</th>\n",
       "      <th>...</th>\n",
       "      <th>BILL_AMT4</th>\n",
       "      <th>BILL_AMT5</th>\n",
       "      <th>BILL_AMT6</th>\n",
       "      <th>PAY_AMT1</th>\n",
       "      <th>PAY_AMT2</th>\n",
       "      <th>PAY_AMT3</th>\n",
       "      <th>PAY_AMT4</th>\n",
       "      <th>PAY_AMT5</th>\n",
       "      <th>PAY_AMT6</th>\n",
       "      <th>DEFAULT</th>\n",
       "    </tr>\n",
       "  </thead>\n",
       "  <tbody>\n",
       "    <tr>\n",
       "      <th>2308</th>\n",
       "      <td>2309</td>\n",
       "      <td>30000</td>\n",
       "      <td>1</td>\n",
       "      <td>2</td>\n",
       "      <td>2</td>\n",
       "      <td>25</td>\n",
       "      <td>0</td>\n",
       "      <td>0</td>\n",
       "      <td>0</td>\n",
       "      <td>0</td>\n",
       "      <td>...</td>\n",
       "      <td>12580</td>\n",
       "      <td>13716</td>\n",
       "      <td>14828</td>\n",
       "      <td>1500</td>\n",
       "      <td>2000</td>\n",
       "      <td>1500</td>\n",
       "      <td>1500</td>\n",
       "      <td>1500</td>\n",
       "      <td>2000</td>\n",
       "      <td>0</td>\n",
       "    </tr>\n",
       "  </tbody>\n",
       "</table>\n",
       "<p>1 rows × 25 columns</p>\n",
       "</div>"
      ],
      "text/plain": [
       "        ID  LIMIT_BAL  SEX  EDUCATION  MARRIAGE  AGE  PAY_1  PAY_2  PAY_3  \\\n",
       "2308  2309      30000    1          2         2   25      0      0      0   \n",
       "\n",
       "      PAY_4  ...  BILL_AMT4  BILL_AMT5  BILL_AMT6  PAY_AMT1  PAY_AMT2  \\\n",
       "2308      0  ...      12580      13716      14828      1500      2000   \n",
       "\n",
       "      PAY_AMT3  PAY_AMT4  PAY_AMT5  PAY_AMT6  DEFAULT  \n",
       "2308      1500      1500      1500      2000        0  \n",
       "\n",
       "[1 rows x 25 columns]"
      ]
     },
     "execution_count": 48,
     "metadata": {},
     "output_type": "execute_result"
    }
   ],
   "source": [
    "X_test\n",
    "df[df['ID']==2309]"
   ]
  },
  {
   "cell_type": "code",
   "execution_count": 49,
   "metadata": {
    "ExecuteTime": {
     "end_time": "2019-10-30T05:00:22.007880Z",
     "start_time": "2019-10-30T05:00:22.004324Z"
    }
   },
   "outputs": [
    {
     "data": {
      "text/plain": [
       "array([0, 0, 0, ..., 0, 0, 0])"
      ]
     },
     "execution_count": 49,
     "metadata": {},
     "output_type": "execute_result"
    }
   ],
   "source": [
    "y_pred_GB"
   ]
  },
  {
   "cell_type": "code",
   "execution_count": 50,
   "metadata": {
    "ExecuteTime": {
     "end_time": "2019-10-30T05:00:22.377286Z",
     "start_time": "2019-10-30T05:00:22.362567Z"
    }
   },
   "outputs": [
    {
     "data": {
      "text/html": [
       "<div>\n",
       "<style scoped>\n",
       "    .dataframe tbody tr th:only-of-type {\n",
       "        vertical-align: middle;\n",
       "    }\n",
       "\n",
       "    .dataframe tbody tr th {\n",
       "        vertical-align: top;\n",
       "    }\n",
       "\n",
       "    .dataframe thead th {\n",
       "        text-align: right;\n",
       "    }\n",
       "</style>\n",
       "<table border=\"1\" class=\"dataframe\">\n",
       "  <thead>\n",
       "    <tr style=\"text-align: right;\">\n",
       "      <th></th>\n",
       "      <th>LIMIT_BAL</th>\n",
       "      <th>SEX</th>\n",
       "      <th>EDUCATION</th>\n",
       "      <th>MARRIAGE</th>\n",
       "      <th>AGE</th>\n",
       "      <th>PAY_1</th>\n",
       "      <th>PAY_2</th>\n",
       "      <th>PAY_3</th>\n",
       "      <th>PAY_4</th>\n",
       "      <th>PAY_5</th>\n",
       "      <th>...</th>\n",
       "      <th>BILL_AMT3</th>\n",
       "      <th>BILL_AMT4</th>\n",
       "      <th>BILL_AMT5</th>\n",
       "      <th>BILL_AMT6</th>\n",
       "      <th>PAY_AMT1</th>\n",
       "      <th>PAY_AMT2</th>\n",
       "      <th>PAY_AMT3</th>\n",
       "      <th>PAY_AMT4</th>\n",
       "      <th>PAY_AMT5</th>\n",
       "      <th>PAY_AMT6</th>\n",
       "    </tr>\n",
       "  </thead>\n",
       "  <tbody>\n",
       "    <tr>\n",
       "      <th>2308</th>\n",
       "      <td>30000</td>\n",
       "      <td>1</td>\n",
       "      <td>2</td>\n",
       "      <td>2</td>\n",
       "      <td>25</td>\n",
       "      <td>0</td>\n",
       "      <td>0</td>\n",
       "      <td>0</td>\n",
       "      <td>0</td>\n",
       "      <td>0</td>\n",
       "      <td>...</td>\n",
       "      <td>11581</td>\n",
       "      <td>12580</td>\n",
       "      <td>13716</td>\n",
       "      <td>14828</td>\n",
       "      <td>1500</td>\n",
       "      <td>2000</td>\n",
       "      <td>1500</td>\n",
       "      <td>1500</td>\n",
       "      <td>1500</td>\n",
       "      <td>2000</td>\n",
       "    </tr>\n",
       "    <tr>\n",
       "      <th>22404</th>\n",
       "      <td>150000</td>\n",
       "      <td>2</td>\n",
       "      <td>1</td>\n",
       "      <td>2</td>\n",
       "      <td>26</td>\n",
       "      <td>0</td>\n",
       "      <td>0</td>\n",
       "      <td>0</td>\n",
       "      <td>0</td>\n",
       "      <td>0</td>\n",
       "      <td>...</td>\n",
       "      <td>116684</td>\n",
       "      <td>101581</td>\n",
       "      <td>77741</td>\n",
       "      <td>77264</td>\n",
       "      <td>4486</td>\n",
       "      <td>4235</td>\n",
       "      <td>3161</td>\n",
       "      <td>2647</td>\n",
       "      <td>2669</td>\n",
       "      <td>2669</td>\n",
       "    </tr>\n",
       "    <tr>\n",
       "      <th>23397</th>\n",
       "      <td>70000</td>\n",
       "      <td>2</td>\n",
       "      <td>3</td>\n",
       "      <td>1</td>\n",
       "      <td>32</td>\n",
       "      <td>0</td>\n",
       "      <td>0</td>\n",
       "      <td>0</td>\n",
       "      <td>0</td>\n",
       "      <td>0</td>\n",
       "      <td>...</td>\n",
       "      <td>68530</td>\n",
       "      <td>69753</td>\n",
       "      <td>70111</td>\n",
       "      <td>70212</td>\n",
       "      <td>2431</td>\n",
       "      <td>3112</td>\n",
       "      <td>3000</td>\n",
       "      <td>2438</td>\n",
       "      <td>2500</td>\n",
       "      <td>2554</td>\n",
       "    </tr>\n",
       "    <tr>\n",
       "      <th>25058</th>\n",
       "      <td>130000</td>\n",
       "      <td>1</td>\n",
       "      <td>3</td>\n",
       "      <td>2</td>\n",
       "      <td>49</td>\n",
       "      <td>0</td>\n",
       "      <td>0</td>\n",
       "      <td>0</td>\n",
       "      <td>0</td>\n",
       "      <td>0</td>\n",
       "      <td>...</td>\n",
       "      <td>16172</td>\n",
       "      <td>16898</td>\n",
       "      <td>11236</td>\n",
       "      <td>6944</td>\n",
       "      <td>1610</td>\n",
       "      <td>1808</td>\n",
       "      <td>7014</td>\n",
       "      <td>27</td>\n",
       "      <td>7011</td>\n",
       "      <td>4408</td>\n",
       "    </tr>\n",
       "    <tr>\n",
       "      <th>2664</th>\n",
       "      <td>50000</td>\n",
       "      <td>2</td>\n",
       "      <td>2</td>\n",
       "      <td>2</td>\n",
       "      <td>36</td>\n",
       "      <td>0</td>\n",
       "      <td>0</td>\n",
       "      <td>0</td>\n",
       "      <td>0</td>\n",
       "      <td>0</td>\n",
       "      <td>...</td>\n",
       "      <td>42361</td>\n",
       "      <td>19574</td>\n",
       "      <td>20295</td>\n",
       "      <td>19439</td>\n",
       "      <td>2000</td>\n",
       "      <td>1500</td>\n",
       "      <td>1000</td>\n",
       "      <td>1800</td>\n",
       "      <td>0</td>\n",
       "      <td>1000</td>\n",
       "    </tr>\n",
       "  </tbody>\n",
       "</table>\n",
       "<p>5 rows × 23 columns</p>\n",
       "</div>"
      ],
      "text/plain": [
       "       LIMIT_BAL  SEX  EDUCATION  MARRIAGE  AGE  PAY_1  PAY_2  PAY_3  PAY_4  \\\n",
       "2308       30000    1          2         2   25      0      0      0      0   \n",
       "22404     150000    2          1         2   26      0      0      0      0   \n",
       "23397      70000    2          3         1   32      0      0      0      0   \n",
       "25058     130000    1          3         2   49      0      0      0      0   \n",
       "2664       50000    2          2         2   36      0      0      0      0   \n",
       "\n",
       "       PAY_5  ...  BILL_AMT3  BILL_AMT4  BILL_AMT5  BILL_AMT6  PAY_AMT1  \\\n",
       "2308       0  ...      11581      12580      13716      14828      1500   \n",
       "22404      0  ...     116684     101581      77741      77264      4486   \n",
       "23397      0  ...      68530      69753      70111      70212      2431   \n",
       "25058      0  ...      16172      16898      11236       6944      1610   \n",
       "2664       0  ...      42361      19574      20295      19439      2000   \n",
       "\n",
       "       PAY_AMT2  PAY_AMT3  PAY_AMT4  PAY_AMT5  PAY_AMT6  \n",
       "2308       2000      1500      1500      1500      2000  \n",
       "22404      4235      3161      2647      2669      2669  \n",
       "23397      3112      3000      2438      2500      2554  \n",
       "25058      1808      7014        27      7011      4408  \n",
       "2664       1500      1000      1800         0      1000  \n",
       "\n",
       "[5 rows x 23 columns]"
      ]
     },
     "execution_count": 50,
     "metadata": {},
     "output_type": "execute_result"
    }
   ],
   "source": [
    "X_test_raw.head()"
   ]
  },
  {
   "cell_type": "code",
   "execution_count": 51,
   "metadata": {
    "ExecuteTime": {
     "end_time": "2019-10-30T05:00:22.540729Z",
     "start_time": "2019-10-30T05:00:22.538996Z"
    }
   },
   "outputs": [],
   "source": [
    "#X_test_raw(y_pred_GB==1)\n",
    "\n",
    "# ->X_test_raw[ (y_test == 1) & (y_pred_GB == 0)].describe()\n"
   ]
  },
  {
   "cell_type": "code",
   "execution_count": 52,
   "metadata": {
    "ExecuteTime": {
     "end_time": "2019-10-30T05:00:22.882895Z",
     "start_time": "2019-10-30T05:00:22.880456Z"
    }
   },
   "outputs": [],
   "source": [
    "# -->>>>X_test_raw.describe()"
   ]
  },
  {
   "cell_type": "code",
   "execution_count": 53,
   "metadata": {
    "ExecuteTime": {
     "end_time": "2019-10-30T05:00:23.300886Z",
     "start_time": "2019-10-30T05:00:23.112525Z"
    }
   },
   "outputs": [
    {
     "data": {
      "image/png": "[encoded data removed]",
      "text/plain": [
       "<Figure size 432x432 with 1 Axes>"
      ]
     },
     "metadata": {
      "needs_background": "light"
     },
     "output_type": "display_data"
    }
   ],
   "source": [
    "\n",
    "# Plot ROC curves and what not\n",
    "plt.figure(figsize=(6,6));\n",
    "plt.title('Receiver Operating Characteristic');\n",
    "plt.plot(fpr_GB, tpr_GB, 'b', label = 'AUC = %0.2f' % roc_auc_GB,lw=3);\n",
    "plt.legend(loc = 'lower right');\n",
    "plt.plot([0, 1], [0, 1],'r--',lw=3);\n",
    "plt.xlim([0, 1]);\n",
    "plt.ylim([0, 1]);\n",
    "plt.ylabel('True Positive Rate');\n",
    "plt.xlabel('False Positive Rate');\n",
    "plt.title('ROC Curve of GBoost');\n",
    "plt.grid();\n",
    "plt.savefig('roc_curve_gb.svg');\n",
    "#plt.show();"
   ]
  },
  {
   "cell_type": "code",
   "execution_count": 93,
   "metadata": {
    "ExecuteTime": {
     "end_time": "2019-10-30T16:54:30.064233Z",
     "start_time": "2019-10-30T16:54:29.905115Z"
    }
   },
   "outputs": [
    {
     "data": {
      "application/vnd.jupyter.widget-view+json": {
       "model_id": "8b4931f40fbd4b458223021b75271712",
       "version_major": 2,
       "version_minor": 0
      },
      "text/plain": [
       "interactive(children=(FloatSlider(value=0.5, description='threshold', max=1.0, step=0.01), Output()), _dom_cla…"
      ]
     },
     "metadata": {},
     "output_type": "display_data"
    }
   ],
   "source": [
    "# Let's see how our confusion matrix changes with changes to the cutoff! \n",
    "\n",
    "interactive(lambda threshold: make_confusion_matrix(GB, threshold), threshold=(0.0,1.0,0.01))"
   ]
  },
  {
   "cell_type": "code",
   "execution_count": 57,
   "metadata": {
    "ExecuteTime": {
     "end_time": "2019-10-30T05:01:26.356175Z",
     "start_time": "2019-10-30T05:01:26.197774Z"
    }
   },
   "outputs": [
    {
     "data": {
      "image/png": "[encoded data removed]",
      "text/plain": [
       "<Figure size 432x432 with 1 Axes>"
      ]
     },
     "metadata": {
      "needs_background": "light"
     },
     "output_type": "display_data"
    }
   ],
   "source": [
    "# ROC curve\n",
    "prc_curve_gb, rec_curve_gb, thr_curve_gb = precision_recall_curve(y_test, y_scores_GB[:,1])\n",
    "\n",
    "plt.figure(figsize=(6,6));\n",
    "plt.plot(thr_curve_gb, prc_curve_gb[1:], label='precision', lw = 3)\n",
    "plt.plot(thr_curve_gb, rec_curve_gb[1:], label='recall', lw = 3)\n",
    "plt.legend(loc='lower left')\n",
    "plt.xlabel('Threshold (above this probability, label as Default)');\n",
    "plt.title('Precision and Recall Curves');\n",
    "plt.grid();\n"
   ]
  },
  {
   "cell_type": "code",
   "execution_count": 99,
   "metadata": {
    "ExecuteTime": {
     "end_time": "2019-10-30T17:11:29.811457Z",
     "start_time": "2019-10-30T17:11:29.792798Z"
    }
   },
   "outputs": [
    {
     "ename": "NameError",
     "evalue": "name 'rec_curve_xgb' is not defined",
     "output_type": "error",
     "traceback": [
      "\u001b[0;31m---------------------------------------------------------------------------\u001b[0m",
      "\u001b[0;31mNameError\u001b[0m                                 Traceback (most recent call last)",
      "\u001b[0;32m<ipython-input-99-5fe54729a8d5>\u001b[0m in \u001b[0;36m<module>\u001b[0;34m\u001b[0m\n\u001b[1;32m      1\u001b[0m \u001b[0mplt\u001b[0m\u001b[0;34m.\u001b[0m\u001b[0mfigure\u001b[0m\u001b[0;34m(\u001b[0m\u001b[0mfigsize\u001b[0m\u001b[0;34m=\u001b[0m\u001b[0;34m(\u001b[0m\u001b[0;36m6\u001b[0m\u001b[0;34m,\u001b[0m\u001b[0;36m6\u001b[0m\u001b[0;34m)\u001b[0m\u001b[0;34m)\u001b[0m\u001b[0;34m;\u001b[0m\u001b[0;34m\u001b[0m\u001b[0;34m\u001b[0m\u001b[0m\n\u001b[0;32m----> 2\u001b[0;31m \u001b[0mplt\u001b[0m\u001b[0;34m.\u001b[0m\u001b[0mplot\u001b[0m\u001b[0;34m(\u001b[0m\u001b[0mrec_curve_xgb\u001b[0m\u001b[0;34m[\u001b[0m\u001b[0;36m1\u001b[0m\u001b[0;34m:\u001b[0m\u001b[0;34m]\u001b[0m\u001b[0;34m,\u001b[0m \u001b[0mprc_curve_xgb\u001b[0m\u001b[0;34m[\u001b[0m\u001b[0;36m1\u001b[0m\u001b[0;34m:\u001b[0m\u001b[0;34m]\u001b[0m\u001b[0;34m,\u001b[0m\u001b[0mlabel\u001b[0m\u001b[0;34m=\u001b[0m\u001b[0;34m'precision'\u001b[0m\u001b[0;34m,\u001b[0m\u001b[0mlw\u001b[0m\u001b[0;34m=\u001b[0m\u001b[0;36m3\u001b[0m\u001b[0;34m)\u001b[0m\u001b[0;34m\u001b[0m\u001b[0;34m\u001b[0m\u001b[0m\n\u001b[0m\u001b[1;32m      3\u001b[0m \u001b[0mplt\u001b[0m\u001b[0;34m.\u001b[0m\u001b[0mxlabel\u001b[0m\u001b[0;34m(\u001b[0m\u001b[0;34m\"Recall\"\u001b[0m\u001b[0;34m)\u001b[0m\u001b[0;34m\u001b[0m\u001b[0;34m\u001b[0m\u001b[0m\n\u001b[1;32m      4\u001b[0m \u001b[0mplt\u001b[0m\u001b[0;34m.\u001b[0m\u001b[0mylabel\u001b[0m\u001b[0;34m(\u001b[0m\u001b[0;34m\"Precision\"\u001b[0m\u001b[0;34m)\u001b[0m\u001b[0;34m\u001b[0m\u001b[0;34m\u001b[0m\u001b[0m\n\u001b[1;32m      5\u001b[0m \u001b[0mplt\u001b[0m\u001b[0;34m.\u001b[0m\u001b[0mtitle\u001b[0m\u001b[0;34m(\u001b[0m\u001b[0;34m\"Precision-Recall Curve\"\u001b[0m\u001b[0;34m)\u001b[0m\u001b[0;34m;\u001b[0m\u001b[0;34m\u001b[0m\u001b[0;34m\u001b[0m\u001b[0m\n",
      "\u001b[0;31mNameError\u001b[0m: name 'rec_curve_xgb' is not defined"
     ]
    },
    {
     "data": {
      "text/plain": [
       "<Figure size 432x432 with 0 Axes>"
      ]
     },
     "metadata": {},
     "output_type": "display_data"
    }
   ],
   "source": [
    "plt.figure(figsize=(6,6));\n",
    "plt.plot(rec_curve_xgb[1:], prc_curve_xgb[1:],label='precision',lw=3)\n",
    "plt.xlabel(\"Recall\")\n",
    "plt.ylabel(\"Precision\")\n",
    "plt.title(\"Precision-Recall Curve\");\n",
    "plt.grid();"
   ]
  },
  {
   "cell_type": "markdown",
   "metadata": {},
   "source": [
    "##### Profit/Loss Estimate"
   ]
  },
  {
   "cell_type": "code",
   "execution_count": 59,
   "metadata": {
    "ExecuteTime": {
     "end_time": "2019-10-30T05:01:39.476052Z",
     "start_time": "2019-10-30T05:01:31.304888Z"
    }
   },
   "outputs": [],
   "source": [
    "# Lets loop through multiple thresholds to get all possible combinations of \n",
    "\n",
    "thresholds = np.linspace(0,1,201)\n",
    "\n",
    "#print(list_thresholds)\n",
    "\n",
    "tnr = []\n",
    "fpr = []\n",
    "fnr = []\n",
    "tpr = []\n",
    "\n",
    "for i_thr in thresholds:\n",
    "    \n",
    "    y_pred_GB_thr = GB.predict_proba(X_test)[:, 1] > i_thr;\n",
    "    \n",
    "    itn,ifp,ifn,itp,iGB_confusion_matrix = get_confusion_matrix_no_print(y_test,y_pred_GB_thr);\n",
    "    \n",
    "    tnr.append(itn);\n",
    "    fpr.append(ifp);\n",
    "    fnr.append(ifn);\n",
    "    tpr.append(itp);\n",
    "\n",
    "#print(tnr)"
   ]
  },
  {
   "cell_type": "code",
   "execution_count": 95,
   "metadata": {
    "ExecuteTime": {
     "end_time": "2019-10-30T17:06:56.743934Z",
     "start_time": "2019-10-30T17:06:56.738652Z"
    }
   },
   "outputs": [],
   "source": [
    "# Let's make an assumption on the cost estimates\n",
    "cost_per_TN =   six_month_rev_apr    # Rounded-up monthly_rev_apr\n",
    "cost_per_FP =  -six_month_rev_apr\n",
    "cost_per_FN =  -avg_default_loss   # Rounded-up from avg_default_loss\n",
    "cost_per_TP =   0\n",
    "\n",
    "net_revenue = []\n",
    "\n",
    "for i in range(0,len(tpr)):\n",
    "    \n",
    "    temp = cost_per_TN*tnr[i] + cost_per_FP*fpr[i] + cost_per_FN*fnr[i] + cost_per_TP*tpr[i]\n",
    "    \n",
    "    net_revenue.append(float(temp))"
   ]
  },
  {
   "cell_type": "code",
   "execution_count": 96,
   "metadata": {
    "ExecuteTime": {
     "end_time": "2019-10-30T17:06:57.837246Z",
     "start_time": "2019-10-30T17:06:57.632334Z"
    }
   },
   "outputs": [
    {
     "data": {
      "image/png": "[encoded data removed]",
      "text/plain": [
       "<Figure size 720x432 with 1 Axes>"
      ]
     },
     "metadata": {
      "needs_background": "light"
     },
     "output_type": "display_data"
    }
   ],
   "source": [
    "# Loss Curve\n",
    "plt.figure(figsize=(10,6));\n",
    "plt.rcParams.update({'font.size': 16})\n",
    "plt.plot(thresholds, (np.asarray(net_revenue)/1.e6), 'r', lw = 3)\n",
    "#plt.legend(loc='lower left')\n",
    "plt.xlabel('Threshold');\n",
    "plt.ylabel('Profit, Millions (USD)');\n",
    "plt.title('Profit vs Threshold with 19.99% APR');\n",
    "plt.savefig('revenue_estimate_based_threshold_GB.svg');\n",
    "plt.ylim(-50, 90);\n",
    "#plt.grid();"
   ]
  },
  {
   "cell_type": "code",
   "execution_count": 97,
   "metadata": {
    "ExecuteTime": {
     "end_time": "2019-10-30T17:06:59.051990Z",
     "start_time": "2019-10-30T17:06:59.048301Z"
    }
   },
   "outputs": [
    {
     "name": "stdout",
     "output_type": "stream",
     "text": [
      "Minimum profit: $77,599,699.05\n",
      "Threshold max: 0.555\n"
     ]
    }
   ],
   "source": [
    "# From the above plot, use threshold of 0.051 as optimum\n",
    "\n",
    "maximum_net_revenue_GB = max(net_revenue)\n",
    "\n",
    "print (\"Minimum profit: ${:12,.2f}\".format(maximum_net_revenue_GB))\n",
    "#print(maximum_net_revenue_GB)\n",
    "\n",
    "max_index = net_revenue.index(max(net_revenue))\n",
    "\n",
    "print('Threshold max:', thresholds[max_index])"
   ]
  },
  {
   "cell_type": "code",
   "execution_count": 98,
   "metadata": {
    "ExecuteTime": {
     "end_time": "2019-10-30T17:07:12.955054Z",
     "start_time": "2019-10-30T17:07:12.526514Z"
    }
   },
   "outputs": [
    {
     "data": {
      "image/png": "[encoded data removed]",
      "text/plain": [
       "<Figure size 720x432 with 1 Axes>"
      ]
     },
     "metadata": {
      "needs_background": "light"
     },
     "output_type": "display_data"
    }
   ],
   "source": [
    "# TN Curve\n",
    "plt.figure(figsize=(10,6));\n",
    "plt.rcParams.update({'font.size': 16})\n",
    "plt.plot(thresholds, (np.asarray(tnr)/1.), 'r', lw = 3)\n",
    "#plt.legend(loc='lower left')\n",
    "plt.xlabel('Threshold');\n",
    "plt.ylabel('TN');\n",
    "plt.title('True Negative with 19.99% APR');\n",
    "plt.savefig('TN_based_threshold_GB.svg');\n",
    "#plt.ylim(-40, 0)\n",
    "#plt.grid();"
   ]
  },
  {
   "cell_type": "code",
   "execution_count": null,
   "metadata": {
    "ExecuteTime": {
     "end_time": "2019-10-29T17:20:26.682451Z",
     "start_time": "2019-10-29T17:20:26.589604Z"
    }
   },
   "outputs": [],
   "source": [
    "# Not an important section. I was trying to test and get exact numbers \n",
    "y_pred_GB_thr1 = GB.predict_proba(X_test)[:, 1] >= 0.3;\n",
    "\n",
    "itn1,ifp1,ifn1,itp1,iGB_confusion_matrix1 = get_confusion_matrix_no_print(y_test,y_pred_GB_thr1);\n",
    "\n",
    "print(iGB_confusion_matrix1)\n",
    "\n",
    "df_TP = X_test_raw[ (y_test == 1) & (y_pred_GB_thr1 == 1) ]\n",
    "df_FP = X_test_raw[ (y_test == 0) & (y_pred_GB_thr1 == 1) ]\n",
    "df_FN = X_test_raw[ (y_test == 1) & (y_pred_GB_thr1 == 0) ]\n",
    "df_TN = X_test_raw[ (y_test == 0) & (y_pred_GB_thr1 == 0) ]\n",
    "\n",
    "\n",
    "# Get total amount of losses due to defaults\n",
    "df_def_bill_amnt_TP = df_TP[['BILL_AMT1','BILL_AMT2','BILL_AMT3','BILL_AMT4','BILL_AMT5','BILL_AMT6']]\n",
    "df_def_bill_amnt_FP = df_FP[['BILL_AMT1','BILL_AMT2','BILL_AMT3','BILL_AMT4','BILL_AMT5','BILL_AMT6']]\n",
    "df_def_bill_amnt_FN = df_FN[['BILL_AMT1','BILL_AMT2','BILL_AMT3','BILL_AMT4','BILL_AMT5','BILL_AMT6']]\n",
    "df_def_bill_amnt_TN = df_TN[['BILL_AMT1','BILL_AMT2','BILL_AMT3','BILL_AMT4','BILL_AMT5','BILL_AMT6']]\n",
    "\n",
    "list_bill_def_amt_TP = df_def_bill_amnt_TP.values.tolist()\n",
    "list_bill_def_amt_FP = df_def_bill_amnt_FP.values.tolist()\n",
    "list_bill_def_amt_FN = df_def_bill_amnt_FN.values.tolist()\n",
    "list_bill_def_amt_TN = df_def_bill_amnt_TN.values.tolist()\n",
    "\n",
    "# We want to the last bill balance that was not paid\n",
    "def_amnt_TP = []\n",
    "def_amnt_FP = []\n",
    "def_amnt_FN = []\n",
    "def_amnt_TN = []\n",
    "\n",
    "#counter_TP = 0\n",
    "\n",
    "# True Positive\n",
    "for i_list_bill_TP in list_bill_def_amt_TP:\n",
    "    \n",
    "    #counter_TP = counter_TP + 1\n",
    "        \n",
    "    if (i_list_bill_TP.count(0) < 6):\n",
    "        imax = np.max(np.nonzero(i_list_bill_TP))\n",
    "        def_amnt_TP.append(i_list_bill_TP[imax])\n",
    "    else:\n",
    "        def_amnt_TP.append(0)\n",
    "\n",
    "\n",
    "# False Positive\n",
    "for i_list_bill_FP in list_bill_def_amt_FP:\n",
    "    \n",
    "    #counter_TP = counter_TP + 1\n",
    "        \n",
    "    '''if (i_list_bill_FP.count(0) < 6):\n",
    "        imax = np.max(np.nonzero(i_list_bill_FP))\n",
    "        def_amnt_FP.append(i_list_bill_FP[imax])\n",
    "    else:\n",
    "        def_amnt_FP.append(0)'''\n",
    "        \n",
    "    temp_sum_FP = sum(i_list_bill_FP)\n",
    "    \n",
    "    def_amnt_FP.append(temp_sum_FP)\n",
    "        \n",
    "\n",
    "# False Negative\n",
    "for i_list_bill_FN in list_bill_def_amt_FN:\n",
    "    \n",
    "    #counter_TP = counter_TP + 1\n",
    "        \n",
    "    if (i_list_bill_FN.count(0) < 6):\n",
    "        imax = np.max(np.nonzero(i_list_bill_FN))\n",
    "        def_amnt_FN.append(i_list_bill_FN[imax])\n",
    "    else:\n",
    "        def_amnt_FN.append(0)\n",
    "\n",
    "        \n",
    "# True Negative\n",
    "for i_list_bill_TN in list_bill_def_amt_TN:\n",
    "    \n",
    "    #counter_TP = counter_TP + 1\n",
    "        \n",
    "    #if (i_list_bill_TN.count(0) < 6):\n",
    "    #    imax = np.max(np.nonzero(i_list_bill_TN))\n",
    "    #    def_amnt_TN.append(i_list_bill_TN[imax])\n",
    "    #else:\n",
    "    #    def_amnt_TN.append(0)\n",
    "        \n",
    "    temp_sum_TN = sum(i_list_bill_TN)\n",
    "    \n",
    "    def_amnt_TN.append(temp_sum_TN)\n",
    "        \n",
    "#print(len(def_amnt))\n",
    "#print(sum(def_amnt))\n",
    "\n",
    "total_def_amnt_TP = sum(def_amnt_TP)\n",
    "total_def_amnt_FP = sum(def_amnt_FP)\n",
    "total_def_amnt_FN = sum(def_amnt_FN)\n",
    "total_def_amnt_TN = sum(def_amnt_TN)\n",
    "\n",
    "# Default (TP)\n",
    "print (\"Total losses of defaults: ${:12,.2f}\".format(total_def_amnt_TP))\n",
    "\n",
    "avg_default_loss1 = float(total_def_amnt_TP)/float(len(def_amnt_TP))\n",
    "\n",
    "print (\"Average Default per Person: ${:12,.2f}\".format(avg_default_loss1))\n",
    "\n",
    "\n",
    "# No Default (TN)\n",
    "print (\"Total gains of defaults: ${:12,.2f}\".format(total_def_amnt_TN))\n",
    "\n",
    "avg_default_gain1 = float(total_def_amnt_TN*monthly_APR)/float(len(def_amnt_TN))\n",
    "\n",
    "print (\"Average Default per Person: ${:12,.2f}\".format(avg_default_gain1))\n",
    "\n",
    "\n",
    "\n",
    "cost_per_TP1 = 0;\n",
    "cost_per_FP1 = -avg_default_gain1;\n",
    "cost_per_FN1 = -avg_default_loss1;\n",
    "cost_per_TN1 =  avg_default_gain1;\n",
    "\n",
    "#cost_per_TP1  = avg_default_loss1\n",
    "#cost_per_FN1  = avg_default_loss1\n",
    "\n",
    "COST = cost_per_TN1*itn1 + cost_per_FP1*ifp1 + cost_per_FN1*ifn1 + cost_per_TP1*itp1\n",
    "\n",
    "print (\"COST: ${:12,.2f}\".format(COST))"
   ]
  },
  {
   "cell_type": "markdown",
   "metadata": {},
   "source": [
    "#### XGBoost Classifier"
   ]
  },
  {
   "cell_type": "code",
   "execution_count": 85,
   "metadata": {
    "ExecuteTime": {
     "end_time": "2019-10-30T16:54:01.723834Z",
     "start_time": "2019-10-30T16:51:26.722779Z"
    }
   },
   "outputs": [
    {
     "name": "stdout",
     "output_type": "stream",
     "text": [
      "[0.7800917572701184, 0.7799949638639857, 0.7797857323530387, 0.7786808240294444, 0.7774896615951051, 0.7770856902300751, 0.7758490889915184, 0.7750275316671523, 0.7742590988037391]\n"
     ]
    }
   ],
   "source": [
    "# See if we can find an optimum value of estimators\n",
    "# Cross Validation Loop\n",
    "s_estimators = 100;\n",
    "e_estimators = 500;\n",
    "n_incr = 50\n",
    "\n",
    "N_range = np.arange(s_estimators,e_estimators+1,n_incr)\n",
    "\n",
    "#print(N_range)\n",
    "    \n",
    "#C_range = np.linspace(0.0)\n",
    "XGB_scores = []\n",
    "\n",
    "for i in N_range:\n",
    "    XGB = XGBClassifier(max_depth=3,n_estimators=i,n_jobs=-1);\n",
    "    scores = cross_val_score(XGB, X_train, y_train, cv=cv_value, scoring='roc_auc');\n",
    "    #print('auc_score')\n",
    "    XGB_scores.append(scores.mean());\n",
    "    \n",
    "print(XGB_scores)\n",
    "    \n",
    "#print(k_scores)"
   ]
  },
  {
   "cell_type": "code",
   "execution_count": 86,
   "metadata": {
    "ExecuteTime": {
     "end_time": "2019-10-30T16:54:05.212742Z",
     "start_time": "2019-10-30T16:54:01.726385Z"
    }
   },
   "outputs": [],
   "source": [
    "XGB = XGBClassifier(max_depth=3,n_estimators=500,n_jobs=-1);\n",
    "\n",
    "XGB.fit(X_train, y_train);"
   ]
  },
  {
   "cell_type": "code",
   "execution_count": 87,
   "metadata": {
    "ExecuteTime": {
     "end_time": "2019-10-30T16:54:05.276823Z",
     "start_time": "2019-10-30T16:54:05.215939Z"
    }
   },
   "outputs": [
    {
     "name": "stdout",
     "output_type": "stream",
     "text": [
      "XGBoost score, Train set:  83.52%\n",
      "XGBoost score, Test set :  81.88%\n"
     ]
    }
   ],
   "source": [
    "print(\"XGBoost score, Train set: {:6.2f}%\".format(100*XGB.score(X_train,y_train)))\n",
    "print(\"XGBoost score, Test set : {:6.2f}%\".format(100*XGB.score(X_test, y_test)))"
   ]
  },
  {
   "cell_type": "code",
   "execution_count": 88,
   "metadata": {
    "ExecuteTime": {
     "end_time": "2019-10-30T16:54:05.313951Z",
     "start_time": "2019-10-30T16:54:05.279768Z"
    }
   },
   "outputs": [
    {
     "name": "stdout",
     "output_type": "stream",
     "text": [
      "0.7800216638492722\n"
     ]
    }
   ],
   "source": [
    "y_pred_XGB   = XGB.predict(X_test)\n",
    "\n",
    "y_scores_XGB = XGB.predict_proba(X_test)\n",
    "\n",
    "fpr_XGB, tpr_XGB, threshold_XGB = roc_curve(y_test, y_scores_XGB[:, 1])\n",
    "\n",
    "roc_auc_XGB = auc(fpr_XGB, tpr_XGB)\n",
    "\n",
    "print(roc_auc_XGB)"
   ]
  },
  {
   "cell_type": "code",
   "execution_count": 89,
   "metadata": {
    "ExecuteTime": {
     "end_time": "2019-10-30T16:54:05.558411Z",
     "start_time": "2019-10-30T16:54:05.316261Z"
    }
   },
   "outputs": [
    {
     "name": "stdout",
     "output_type": "stream",
     "text": [
      "True Negatives :  4441\n",
      "False Positives:  246\n",
      "False Negatives:  841\n",
      "True Positives :  472 \n",
      "\n",
      "Confusion matrix: \n",
      "\n",
      " [[4441  246]\n",
      " [ 841  472]] \n",
      "\n"
     ]
    },
    {
     "data": {
      "image/png": "[encoded data removed]",
      "text/plain": [
       "<Figure size 600x400 with 2 Axes>"
      ]
     },
     "metadata": {
      "needs_background": "light"
     },
     "output_type": "display_data"
    }
   ],
   "source": [
    "tn_XGB,fp_XGB,fn_XGB,tp_XGB,XGB_confusion_matrix = get_confusion_matrix(y_test,y_pred_XGB,n_defaults)\n",
    "\n",
    "plt.figure(dpi=100)\n",
    "sns.heatmap(XGB_confusion_matrix, cmap=plt.cm.Blues, annot=True, square=True,\n",
    "           xticklabels=[0,1],\n",
    "           yticklabels=[0,1],fmt='g')\n",
    "\n",
    "plt.xlabel('Predicted Defaults')\n",
    "plt.ylabel('Actual Defaults')\n",
    "plt.title('XGBoost confusion matrix, credit card default');\n",
    "plt.savefig('confusion_matrix_xgb_n400.svg')"
   ]
  },
  {
   "cell_type": "code",
   "execution_count": 90,
   "metadata": {
    "ExecuteTime": {
     "end_time": "2019-10-30T16:54:05.760361Z",
     "start_time": "2019-10-30T16:54:05.560169Z"
    }
   },
   "outputs": [
    {
     "data": {
      "image/png": "[encoded data removed]",
      "text/plain": [
       "<Figure size 432x432 with 1 Axes>"
      ]
     },
     "metadata": {
      "needs_background": "light"
     },
     "output_type": "display_data"
    }
   ],
   "source": [
    "# Plot ROC curves and what not\n",
    "plt.figure(figsize=(6,6));\n",
    "plt.title('Receiver Operating Characteristic');\n",
    "plt.plot(fpr_XGB, tpr_XGB, 'b', label = 'AUC = %0.2f' % roc_auc_XGB,lw=3);\n",
    "plt.legend(loc = 'lower right');\n",
    "plt.plot([0, 1], [0, 1],'r--',lw=3);\n",
    "plt.xlim([0, 1]);\n",
    "plt.ylim([0, 1]);\n",
    "plt.ylabel('True Positive Rate');\n",
    "plt.xlabel('False Positive Rate');\n",
    "plt.title('ROC Curve of XGBoost');\n",
    "plt.grid();\n",
    "plt.savefig('roc_curve_xgb.svg');\n",
    "#plt.show();"
   ]
  },
  {
   "cell_type": "code",
   "execution_count": 91,
   "metadata": {
    "ExecuteTime": {
     "end_time": "2019-10-30T16:54:05.766542Z",
     "start_time": "2019-10-30T16:54:05.762281Z"
    }
   },
   "outputs": [],
   "source": [
    "# This block is taken from the notebook \"classification_error_metrics_slns\"\n",
    "def make_confusion_matrix(model, threshold=0.5):\n",
    "    # Predict class 1 if probability of being in class 1 is greater than threshold\n",
    "    # (model.predict(X_test) does this automatically with a threshold of 0.5)\n",
    "    y_predict = (model.predict_proba(X_test)[:, 1] >= threshold)\n",
    "    fraud_confusion = confusion_matrix(y_test, y_predict)\n",
    "    plt.figure(dpi=100)\n",
    "    sns.heatmap(fraud_confusion, cmap=plt.cm.Blues, annot=True, square=True, fmt='d',\n",
    "           xticklabels=['0', '1'],\n",
    "           yticklabels=['0', '1']);\n",
    "    plt.xlabel('Prediction')\n",
    "    plt.ylabel('Actual')"
   ]
  },
  {
   "cell_type": "code",
   "execution_count": 92,
   "metadata": {
    "ExecuteTime": {
     "end_time": "2019-10-30T16:54:17.504815Z",
     "start_time": "2019-10-30T16:54:17.329958Z"
    }
   },
   "outputs": [
    {
     "data": {
      "application/vnd.jupyter.widget-view+json": {
       "model_id": "43bdbc12d934462babfbe4d5a7b1098f",
       "version_major": 2,
       "version_minor": 0
      },
      "text/plain": [
       "interactive(children=(FloatSlider(value=0.5, description='threshold', max=1.0, step=0.01), Output()), _dom_cla…"
      ]
     },
     "metadata": {},
     "output_type": "display_data"
    }
   ],
   "source": [
    "# Let's see how our confusion matrix changes with changes to the cutoff! \n",
    "\n",
    "from ipywidgets import interactive, FloatSlider\n",
    "\n",
    "interactive(lambda threshold: make_confusion_matrix(XGB, threshold), threshold=(0.0,1.0,0.01))"
   ]
  },
  {
   "cell_type": "code",
   "execution_count": null,
   "metadata": {
    "ExecuteTime": {
     "end_time": "2019-10-25T03:31:55.915767Z",
     "start_time": "2019-10-25T03:31:55.733912Z"
    }
   },
   "outputs": [],
   "source": [
    "# ROC curve\n",
    "prc_curve_xgb, rec_curve_xgb, thr_curve_xgb = precision_recall_curve(y_test, y_scores_XGB[:,1])\n",
    "\n",
    "plt.figure(figsize=(10,8));\n",
    "plt.plot(thr_curve_xgb, prc_curve_xgb[1:], label='precision', lw = 3)\n",
    "plt.plot(thr_curve_xgb, rec_curve_xgb[1:], label='recall', lw = 3)\n",
    "plt.legend(loc='lower left')\n",
    "plt.xlabel('Threshold (above this probability, label as Default)');\n",
    "plt.title('Precision and Recall Curves');\n",
    "plt.grid();\n"
   ]
  },
  {
   "cell_type": "code",
   "execution_count": null,
   "metadata": {
    "ExecuteTime": {
     "end_time": "2019-10-25T03:33:33.517027Z",
     "start_time": "2019-10-25T03:33:33.354620Z"
    }
   },
   "outputs": [],
   "source": [
    "plt.figure(figsize=(10,8));\n",
    "plt.plot(rec_curve_xgb[1:], prc_curve_xgb[1:],label='precision',lw=3)\n",
    "plt.xlabel(\"Recall\")\n",
    "plt.ylabel(\"Precision\")\n",
    "plt.title(\"Precision-Recall Curve\");\n",
    "plt.grid();"
   ]
  },
  {
   "cell_type": "markdown",
   "metadata": {},
   "source": [
    "### Addressing Class Imbalance"
   ]
  },
  {
   "cell_type": "markdown",
   "metadata": {},
   "source": [
    "#### Random Over-Sampling"
   ]
  },
  {
   "cell_type": "code",
   "execution_count": null,
   "metadata": {
    "ExecuteTime": {
     "end_time": "2019-10-25T02:51:24.901167Z",
     "start_time": "2019-10-25T02:51:24.873597Z"
    }
   },
   "outputs": [],
   "source": [
    "# It is apparent that so far all of the classifiers we have tried have not worked very well.\n",
    "# One way is over-sample our minority class\n",
    "\n",
    "ros = RandomOverSampler(random_state=random_seed)\n",
    "\n",
    "X_train_resampled, y_train_resampled = ros.fit_sample(X_train,y_train)\n",
    "\n",
    "# Yay, balanced classes!\n",
    "Counter(y_train_resampled)"
   ]
  },
  {
   "cell_type": "markdown",
   "metadata": {},
   "source": [
    "##### K-NN RoS"
   ]
  },
  {
   "cell_type": "code",
   "execution_count": null,
   "metadata": {
    "ExecuteTime": {
     "end_time": "2019-10-25T02:51:35.711879Z",
     "start_time": "2019-10-25T02:51:26.066936Z"
    }
   },
   "outputs": [],
   "source": [
    "# Let's retrain it again with classifier\n",
    "knn30_ros = knn30.fit(X_train_resampled, y_train_resampled)\n",
    "\n",
    "y_pred_knn30_ros = knn30_ros.predict(X_test)\n",
    "\n",
    "y_scores_knn30_ros = knn30_ros.predict_proba(X_test)\n",
    "\n",
    "fpr_knn30_ros, tpr_knn30_ros, threshold_knn30_ros = roc_curve(y_test, y_scores_knn30_ros[:, 1])\n",
    "\n",
    "roc_auc_knn30_ros = auc(fpr_knn30_ros, tpr_knn30_ros)\n",
    "\n",
    "print(roc_auc_knn30_ros)"
   ]
  },
  {
   "cell_type": "code",
   "execution_count": null,
   "metadata": {
    "ExecuteTime": {
     "end_time": "2019-10-25T02:52:38.605094Z",
     "start_time": "2019-10-25T02:52:38.427653Z"
    }
   },
   "outputs": [],
   "source": [
    "tn_knn30_ros,fp_knn30_ros,fn_knn30_ros,tp_knn30_ros,knn30_ros_confusion_matrix = \\\n",
    "                                        get_confusion_matrix(y_test,y_pred_knn30_ros,n_defaults)\n",
    "\n",
    "plt.figure(dpi=100)\n",
    "sns.heatmap(knn30_ros_confusion_matrix, cmap=plt.cm.Blues, annot=True, square=True,\n",
    "           xticklabels=[0,1],\n",
    "           yticklabels=[0,1],fmt='g')\n",
    "\n",
    "plt.xlabel('Predicted Defaults')\n",
    "plt.ylabel('Actual Defaults')\n",
    "plt.title('kNN confusion matrix, ROS, credit card default');\n",
    "plt.savefig('confusion_matrix_knn30_ros.svg')"
   ]
  },
  {
   "cell_type": "code",
   "execution_count": null,
   "metadata": {
    "ExecuteTime": {
     "end_time": "2019-10-25T02:51:52.480012Z",
     "start_time": "2019-10-25T02:51:47.533468Z"
    }
   },
   "outputs": [],
   "source": [
    "# Let's see how our confusion matrix changes with changes to the cutoff! \n",
    "\n",
    "from ipywidgets import interactive, FloatSlider\n",
    "\n",
    "interactive(lambda threshold: make_confusion_matrix(knn30_ros, threshold), threshold=(0.0,1.0,0.01))"
   ]
  },
  {
   "cell_type": "markdown",
   "metadata": {},
   "source": [
    "##### Random Forest RoS"
   ]
  },
  {
   "cell_type": "code",
   "execution_count": null,
   "metadata": {
    "ExecuteTime": {
     "end_time": "2019-10-23T23:19:57.366035Z",
     "start_time": "2019-10-23T23:19:53.548082Z"
    }
   },
   "outputs": [],
   "source": [
    "rf_ros = randomforest.fit(X_train_resampled,y_train_resampled)\n",
    "\n",
    "y_pred_rf_ros = rf_ros.predict(X_test)\n",
    "\n",
    "y_scores_rf_ros = rf_ros.predict_proba(X_test)\n",
    "\n",
    "fpr_rf_ros, tpr_rf_ros, threshold_rf_ros = roc_curve(y_test, y_scores_rf_ros[:, 1])\n",
    "\n",
    "roc_auc_rf_ros = auc(fpr_rf_ros, tpr_rf_ros)\n",
    "\n",
    "f1_score_rf_ros = f1_score(y_test,y_pred_rf_ros)\n",
    "recall_score_rf_ros = recall_score(y_test,y_pred_rf_ros)\n",
    "\n",
    "print(roc_auc_rf_ros)\n",
    "print(f1_score_rf_ros)\n",
    "print(recall_score_rf_ros)\n"
   ]
  },
  {
   "cell_type": "code",
   "execution_count": null,
   "metadata": {
    "ExecuteTime": {
     "end_time": "2019-10-23T05:17:07.165240Z",
     "start_time": "2019-10-23T05:17:07.002604Z"
    }
   },
   "outputs": [],
   "source": [
    "tn_rf_ros,fp_rf_ros,fn_rf_ros,tp_rf_ros,rf_ros_confusion_matrix = \\\n",
    "                                        get_confusion_matrix(y_test,y_pred_rf_ros,n_defaults)\n",
    "\n",
    "plt.figure(dpi=100)\n",
    "sns.heatmap(rf_ros_confusion_matrix, cmap=plt.cm.Blues, annot=True, square=True,\n",
    "           xticklabels=[0,1],\n",
    "           yticklabels=[0,1],fmt='g')\n",
    "\n",
    "plt.xlabel('Predicted Defaults')\n",
    "plt.ylabel('Actual Defaults')\n",
    "plt.title('RF confusion matrix, ROS, credit card default');\n",
    "plt.savefig('confusion_matrix_rf_ros.svg')"
   ]
  },
  {
   "cell_type": "markdown",
   "metadata": {},
   "source": [
    "#### SMOTE"
   ]
  },
  {
   "cell_type": "code",
   "execution_count": null,
   "metadata": {
    "ExecuteTime": {
     "end_time": "2019-10-23T23:15:09.763958Z",
     "start_time": "2019-10-23T23:15:09.048183Z"
    }
   },
   "outputs": [],
   "source": [
    "#X_smoted, y_smoted = SMOTE(random_state=42).fit_sample(X,y)\n",
    "\n",
    "smote = SMOTE(random_state=random_seed)\n",
    "\n",
    "X_train_smoted, y_train_smoted = smote.fit_sample(X_train,y_train)\n",
    "\n",
    "# Yay, balanced classes!\n",
    "Counter(y_train_smoted)"
   ]
  },
  {
   "cell_type": "markdown",
   "metadata": {},
   "source": [
    "##### k-NN SMOTE"
   ]
  },
  {
   "cell_type": "code",
   "execution_count": null,
   "metadata": {
    "ExecuteTime": {
     "end_time": "2019-10-23T23:20:34.145452Z",
     "start_time": "2019-10-23T23:20:24.610846Z"
    }
   },
   "outputs": [],
   "source": [
    "# Let's retrain it again with classifier\n",
    "knn30_smote = knn30.fit(X_train_smoted, y_train_smoted)\n",
    "\n",
    "y_pred_knn30_smote = knn30_smote.predict(X_test)\n",
    "\n",
    "y_scores_knn30_smote = knn30_smote.predict_proba(X_test)\n",
    "\n",
    "fpr_knn30_smote, tpr_knn30_smote, threshold_knn30_smote = roc_curve(y_test, y_scores_knn30_smote[:, 1])\n",
    "\n",
    "roc_auc_knn30_smote = auc(fpr_knn30_smote, tpr_knn30_smote)\n",
    "\n",
    "f1_score_knn30_smote = f1_score(y_test, y_pred_knn30_smote)\n",
    "recall_score_knn30_smote = recall_score(y_test, y_pred_knn30_smote)\n",
    "\n",
    "print(roc_auc_knn30_smote)\n",
    "print(f1_score_knn30_smote)\n",
    "print(recall_score_knn30_smote)"
   ]
  },
  {
   "cell_type": "code",
   "execution_count": null,
   "metadata": {
    "ExecuteTime": {
     "end_time": "2019-10-23T23:22:10.542471Z",
     "start_time": "2019-10-23T23:22:10.362234Z"
    }
   },
   "outputs": [],
   "source": [
    "tn_knn30_smote,fp_knn30_smote,fn_knn30_smote,tp_knn30_smote,knn30_smote_confusion_matrix = \\\n",
    "                                        get_confusion_matrix(y_test,y_pred_knn30_smote,n_defaults)\n",
    "\n",
    "plt.figure(dpi=100)\n",
    "sns.heatmap(knn30_smote_confusion_matrix, cmap=plt.cm.Blues, annot=True, square=True,\n",
    "           xticklabels=[0,1],\n",
    "           yticklabels=[0,1],fmt='g')\n",
    "\n",
    "plt.xlabel('Predicted Defaults')\n",
    "plt.ylabel('Actual Defaults')\n",
    "plt.title('knn confusion matrix, SMOTE, credit card default');\n",
    "plt.savefig('confusion_matrix_knn30_smote.svg')"
   ]
  },
  {
   "cell_type": "markdown",
   "metadata": {},
   "source": [
    "#### ADASYN"
   ]
  },
  {
   "cell_type": "code",
   "execution_count": null,
   "metadata": {
    "ExecuteTime": {
     "end_time": "2019-10-23T23:26:53.123897Z",
     "start_time": "2019-10-23T23:26:50.036450Z"
    }
   },
   "outputs": [],
   "source": [
    "adasyn = ADASYN(random_state=random_seed)\n",
    "\n",
    "X_train_adasyn, y_train_adasyn = adasyn.fit_sample(X_train,y_train)\n",
    "\n",
    "Counter(y_train_adasyn)"
   ]
  },
  {
   "cell_type": "markdown",
   "metadata": {},
   "source": [
    "##### k-NN ADASYN"
   ]
  },
  {
   "cell_type": "code",
   "execution_count": null,
   "metadata": {
    "ExecuteTime": {
     "end_time": "2019-10-23T23:30:25.519026Z",
     "start_time": "2019-10-23T23:30:15.908428Z"
    }
   },
   "outputs": [],
   "source": [
    "# Let's retrain it again with classifier\n",
    "knn30_adasyn = knn30.fit(X_train_adasyn, y_train_adasyn)\n",
    "\n",
    "y_pred_knn30_adasyn = knn30_adasyn.predict(X_test)\n",
    "\n",
    "y_scores_knn30_adasyn = knn30_adasyn.predict_proba(X_test)\n",
    "\n",
    "fpr_knn30_adasyn, tpr_knn30_adasyn, threshold_knn30_adasyn = roc_curve(y_test, y_scores_knn30_adasyn[:, 1])\n",
    "\n",
    "roc_auc_knn30_adasyn = auc(fpr_knn30_adasyn, tpr_knn30_adasyn)\n",
    "\n",
    "f1_score_knn30_adasyn     = f1_score(y_test, y_pred_knn30_adasyn)\n",
    "recall_score_knn30_adasyn = recall_score(y_test, y_pred_knn30_adasyn)\n",
    "\n",
    "print(roc_auc_knn30_adasyn)\n",
    "print(f1_score_knn30_adasyn)\n",
    "print(recall_score_knn30_adasyn)"
   ]
  },
  {
   "cell_type": "code",
   "execution_count": null,
   "metadata": {
    "ExecuteTime": {
     "end_time": "2019-10-23T23:31:13.819830Z",
     "start_time": "2019-10-23T23:31:13.648521Z"
    }
   },
   "outputs": [],
   "source": [
    "tn_knn30_adasyn,fp_knn30_adasyn,fn_knn30_adasyn,tp_knn30_adasyn,knn30_adasyn_confusion_matrix = \\\n",
    "                                        get_confusion_matrix(y_test,y_pred_knn30_adasyn,n_defaults)\n",
    "\n",
    "plt.figure(dpi=100)\n",
    "sns.heatmap(knn30_adasyn_confusion_matrix, cmap=plt.cm.Blues, annot=True, square=True,\n",
    "           xticklabels=[0,1],\n",
    "           yticklabels=[0,1],fmt='g')\n",
    "\n",
    "plt.xlabel('Predicted Defaults')\n",
    "plt.ylabel('Actual Defaults')\n",
    "plt.title('knn confusion matrix, ADASYN, credit card default');\n",
    "plt.savefig('confusion_matrix_knn30_adasyn.svg')"
   ]
  },
  {
   "cell_type": "markdown",
   "metadata": {},
   "source": [
    "##### SVC ADASYN"
   ]
  },
  {
   "cell_type": "code",
   "execution_count": null,
   "metadata": {
    "ExecuteTime": {
     "end_time": "2019-10-23T23:43:35.339612Z",
     "start_time": "2019-10-23T23:38:55.169961Z"
    }
   },
   "outputs": [],
   "source": [
    "# Let's retrain it again with classifier. Using SVC but remove C=1\n",
    "svc3n = svm.SVC(kernel='rbf',probability=True);\n",
    "svc3n.fit(X_train,y_train);\n",
    "\n",
    "print(\"SVC-RBF score, Train set: {:6.2f}%\".format(100*svc3n.score(X_train,y_train)))\n",
    "print(\"SVC-RBF score, Test set : {:6.2f}%\".format(100*svc3n.score(X_test, y_test)))\n",
    "\n",
    "svc3_adasyn = svc3n.fit(X_train_adasyn, y_train_adasyn)"
   ]
  },
  {
   "cell_type": "code",
   "execution_count": null,
   "metadata": {
    "ExecuteTime": {
     "end_time": "2019-10-23T23:43:42.718395Z",
     "start_time": "2019-10-23T23:43:35.341349Z"
    }
   },
   "outputs": [],
   "source": [
    "y_pred_svc3_adasyn = svc3_adasyn.predict(X_test)\n",
    "\n",
    "y_scores_svc3_adasyn = svc3_adasyn.predict_proba(X_test)\n",
    "\n",
    "fpr_svc3_adasyn, tpr_svc3_adasyn, threshold_svc3_adasyn = roc_curve(y_test, y_scores_svc3_adasyn[:, 1])\n",
    "\n",
    "roc_auc_svc3_adasyn = auc(fpr_svc3_adasyn, tpr_svc3_adasyn)\n",
    "\n",
    "f1_score_svc3_adasyn     = f1_score(y_test,     y_pred_svc3_adasyn)\n",
    "recall_score_svc3_adasyn = recall_score(y_test, y_pred_svc3_adasyn)\n",
    "\n",
    "print(roc_auc_svc3_adasyn)\n",
    "print(f1_score_svc3_adasyn)\n",
    "print(recall_score_svc3_adasyn)"
   ]
  },
  {
   "cell_type": "code",
   "execution_count": null,
   "metadata": {
    "ExecuteTime": {
     "end_time": "2019-10-23T23:46:30.269012Z",
     "start_time": "2019-10-23T23:46:30.096299Z"
    }
   },
   "outputs": [],
   "source": [
    "tn_svc3n_adasyn,fp_svc3n_adasyn,fn_svc3n_adasyn,tp_svc3n_adasyn,svc3n_adasyn_confusion_matrix = \\\n",
    "                                        get_confusion_matrix(y_test,y_pred_svc3_adasyn,n_defaults)\n",
    "\n",
    "plt.figure(dpi=100)\n",
    "sns.heatmap(svc3n_adasyn_confusion_matrix, cmap=plt.cm.Blues, annot=True, square=True,\n",
    "           xticklabels=[0,1],\n",
    "           yticklabels=[0,1],fmt='g')\n",
    "\n",
    "plt.xlabel('Predicted Defaults')\n",
    "plt.ylabel('Actual Defaults')\n",
    "plt.title('SVC confusion matrix, ADASYN, credit card default');\n",
    "plt.savefig('confusion_matrix_svc3n_adasyn.svg')"
   ]
  },
  {
   "cell_type": "markdown",
   "metadata": {},
   "source": [
    "### ROC AUC Scores for All Models"
   ]
  },
  {
   "cell_type": "code",
   "execution_count": null,
   "metadata": {
    "ExecuteTime": {
     "end_time": "2019-10-25T04:41:00.145210Z",
     "start_time": "2019-10-25T04:41:00.132562Z"
    }
   },
   "outputs": [],
   "source": [
    "# Create a Pandas Data frame\n",
    "Classifier = ['kNN','Log. Reg.','NB: Gaussian','NB: Bernoulli','R. Forest',\n",
    "              'Extra Trees','SVC-RBF','ADABoost-RF','CatBoost','GradBoost','XGB']\n",
    "\n",
    "roc_auc_scores = [roc_auc30,roc_auc_logres1,roc_auc_gnb,roc_auc_bnb,roc_auc_rf,roc_auc_etc,\n",
    "                  roc_auc_svc3,roc_auc_abc,roc_auc_cat,roc_auc_GB,roc_auc_XGB]\n",
    "\n",
    "df_source = pd.DataFrame({\n",
    "    'Classifier': Classifier,\n",
    "    'AUC': roc_auc_scores\n",
    "})\n",
    "\n",
    "df_source"
   ]
  },
  {
   "cell_type": "code",
   "execution_count": null,
   "metadata": {
    "ExecuteTime": {
     "end_time": "2019-10-23T23:09:07.686180Z",
     "start_time": "2019-10-23T23:09:07.472367Z"
    }
   },
   "outputs": [],
   "source": [
    "plt.figure(figsize=(15,6));\n",
    "plt.bar(Classifier,roc_auc_scores);\n",
    "plt.title('AUC for Models Used, Credit Card Default');\n",
    "plt.xlabel('Classifiers');\n",
    "plt.ylabel('AUC');\n",
    "plt.ylim([0.0,1])\n",
    "plt.savefig('auc_all_models.svg');\n",
    "#plt.grid();"
   ]
  },
  {
   "cell_type": "code",
   "execution_count": null,
   "metadata": {},
   "outputs": [],
   "source": []
  },
  {
   "cell_type": "code",
   "execution_count": null,
   "metadata": {},
   "outputs": [],
   "source": []
  }
 ],
 "metadata": {
  "kernelspec": {
   "display_name": "Python 3",
   "language": "python",
   "name": "python3"
  },
  "language_info": {
   "codemirror_mode": {
    "name": "ipython",
    "version": 3
   },
   "file_extension": ".py",
   "mimetype": "text/x-python",
   "name": "python",
   "nbconvert_exporter": "python",
   "pygments_lexer": "ipython3",
   "version": "3.7.3"
  },
  "latex_envs": {
   "LaTeX_envs_menu_present": true,
   "autoclose": false,
   "autocomplete": true,
   "bibliofile": "biblio.bib",
   "cite_by": "apalike",
   "current_citInitial": 1,
   "eqLabelWithNumbers": true,
   "eqNumInitial": 1,
   "hotkeys": {
    "equation": "Ctrl-E",
    "itemize": "Ctrl-I"
   },
   "labels_anchors": false,
   "latex_user_defs": false,
   "report_style_numbering": false,
   "user_envs_cfg": false
  },
  "toc": {
   "base_numbering": 1,
   "nav_menu": {},
   "number_sections": true,
   "sideBar": true,
   "skip_h1_title": false,
   "title_cell": "Table of Contents",
   "title_sidebar": "Contents",
   "toc_cell": false,
   "toc_position": {
    "height": "calc(100% - 180px)",
    "left": "10px",
    "top": "150px",
    "width": "279.957px"
   },
   "toc_section_display": true,
   "toc_window_display": true
  }
 },
 "nbformat": 4,
 "nbformat_minor": 2
}
